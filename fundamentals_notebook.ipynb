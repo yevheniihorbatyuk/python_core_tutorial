{
 "cells": [
  {
   "cell_type": "markdown",
   "metadata": {},
   "source": [
    " # 🐍 Python Fundamentals: Input/Output та Functions\n",
    "\n",
    "\n",
    "\n",
    " ## 📚 Зміст модуля\n",
    "\n",
    "\n",
    "\n",
    " ### Частина 1: Input та Output\n",
    "\n",
    " 1. Функція `print()` - виведення даних\n",
    "\n",
    " 2. Функція `input()` - отримання даних від користувача\n",
    "\n",
    " 3. Перетворення типів даних\n",
    "\n",
    " 4. F-strings та форматування\n",
    "\n",
    " 5. **Робота з файлами замість input** (практичний підхід)\n",
    "\n",
    " 6. Використання бібліотек для читання даних\n",
    "\n",
    "\n",
    "\n",
    " ### Частина 2: Functions\n",
    "\n",
    " 1. Основи функцій\n",
    "\n",
    " 2. Параметри та повернення значень\n",
    "\n",
    " 3. Області видимості змінних\n",
    "\n",
    " 4. Лямбда-функції\n",
    "\n",
    " 5. Вбудовані функції Python\n",
    "\n",
    " 6. Практичні приклади з використанням бібліотек\n",
    "\n",
    "\n",
    "\n",
    " ---"
   ]
  },
  {
   "cell_type": "markdown",
   "metadata": {},
   "source": [
    " # 📤 Частина 1: Input та Output в Python\n",
    "\n",
    "\n",
    "\n",
    " ## 1.1 Функція `print()` - Основи виведення даних\n",
    "\n",
    "\n",
    "\n",
    " Функція `print()` - це основний спосіб виведення інформації у Python. Вона має багато корисних параметрів, які роблять її дуже гнучкою.\n",
    "\n",
    "\n",
    "\n",
    " ### Основні параметри:\n",
    "\n",
    " - `sep` - роздільник між елементами (за замовчуванням - пробіл)\n",
    "\n",
    " - `end` - символ в кінці виведення (за замовчуванням - `\\n`)\n",
    "\n",
    " - `file` - куди виводити (за замовчуванням - консоль)\n",
    "\n",
    " - `flush` - чи очищувати буфер негайно"
   ]
  },
  {
   "cell_type": "code",
   "execution_count": null,
   "metadata": {},
   "outputs": [],
   "source": []
  },
  {
   "cell_type": "code",
   "execution_count": 5,
   "metadata": {},
   "outputs": [
    {
     "name": "stdout",
     "output_type": "stream",
     "text": [
      "================================================================================\n",
      "1. ОСНОВИ print()\n",
      "================================================================================\n"
     ]
    }
   ],
   "source": [
    "# Базове використання print()\n",
    "print(\"=\" * 80)\n",
    "print(\"1. ОСНОВИ print()\")\n",
    "print(\"=\" * 80)\n"
   ]
  },
  {
   "cell_type": "code",
   "execution_count": 6,
   "metadata": {},
   "outputs": [
    {
     "name": "stdout",
     "output_type": "stream",
     "text": [
      "Привіт, світ!\n",
      "<class 'int'>\n",
      "<class 'float'>\n",
      "<class 'bool'>\n",
      "<class 'list'>\n",
      "Ім'я: Іван Вік: 25 Місто: Київ\n",
      "\n",
      "asdfas\n",
      "      asdf\n",
      "      asdf\n",
      "            zvzdg\n",
      "\n"
     ]
    }
   ],
   "source": [
    "\n",
    "# Простий текст\n",
    "print(\"Привіт, світ!\")\n",
    "\n",
    "# Виведення різних типів даних\n",
    "print(type(42))\n",
    "print(type(3.14159))\n",
    "print(type(True))\n",
    "print(type([1, 2, 3, 4, 5]))\n",
    "\n",
    "# Виведення декількох значень\n",
    "print(\"Ім'я:\" ,\"Іван\", \"Вік:\", 25, \"Місто:\", \"Київ\")\n",
    "\n",
    "print('''\n",
    "asdfas\n",
    "      asdf\n",
    "      asdf\n",
    "            zvzdg\n",
    "'''\n",
    ")\n"
   ]
  },
  {
   "cell_type": "markdown",
   "metadata": {},
   "source": [
    " ### Параметри `sep` та `end`\n",
    "\n",
    "\n",
    "\n",
    " Параметр `sep` дозволяє вказати, як розділяти елементи при виведенні.\n",
    "\n",
    " Параметр `end` визначає, що виводити в кінці (за замовчуванням - новий рядок)."
   ]
  },
  {
   "cell_type": "code",
   "execution_count": 7,
   "metadata": {},
   "outputs": [],
   "source": [
    "our_dict = \\\n",
    "{\n",
    "    'sadf': 12,\n",
    "    'asdf': 21\n",
    "}\n"
   ]
  },
  {
   "cell_type": "code",
   "execution_count": 8,
   "metadata": {},
   "outputs": [
    {
     "data": {
      "text/plain": [
       "{'sadf': 12, 'asdf': 21}"
      ]
     },
     "execution_count": 8,
     "metadata": {},
     "output_type": "execute_result"
    }
   ],
   "source": [
    "our_dict"
   ]
  },
  {
   "cell_type": "code",
   "execution_count": 9,
   "metadata": {},
   "outputs": [
    {
     "name": "stdout",
     "output_type": "stream",
     "text": [
      "sadf | 12\n",
      "asdf | 21\n"
     ]
    }
   ],
   "source": [
    "for i, j in our_dict.items() :\n",
    "    print(i, j, sep=' | ')"
   ]
  },
  {
   "cell_type": "code",
   "execution_count": 10,
   "metadata": {},
   "outputs": [
    {
     "name": "stdout",
     "output_type": "stream",
     "text": [
      "Python | Java | JavaScript | C++\n",
      "2025-01-15\n",
      "1 -> 2 -> 3 -> 4 -> 5\n",
      "Цей рядок продовжується на тій самій лінії!\n",
      "Перший, Другий, Третій -> Четвертий\n"
     ]
    }
   ],
   "source": [
    "# Використання sep (separator)\n",
    "print(\"Python\", \"Java\", \"JavaScript\", \"C++\", sep=\" | \")\n",
    "print(\"2025\", \"01\", \"15\", sep=\"-\")\n",
    "print(1, 2, 3, 4, 5, sep=\" -> \")\n",
    "\n",
    "# Використання end\n",
    "print(\"Цей рядок \", end=\"\")\n",
    "print(\"продовжується на тій самій лінії!\")\n",
    "\n",
    "# Комбінація sep та end\n",
    "print(\"Перший\", \"Другий\", \"Третій\", sep=\", \", end=\" -> \")\n",
    "print(\"Четвертий\")\n"
   ]
  },
  {
   "cell_type": "markdown",
   "metadata": {},
   "source": [
    " ### Виведення у файл\n",
    "\n",
    "\n",
    "\n",
    " `print()` може виводити не тільки в консоль, але й у файли. Це корисно для логування або збереження результатів."
   ]
  },
  {
   "cell_type": "code",
   "execution_count": 11,
   "metadata": {},
   "outputs": [
    {
     "data": {
      "text/plain": [
       "'./output/output_example.txt'"
      ]
     },
     "execution_count": 11,
     "metadata": {},
     "output_type": "execute_result"
    }
   ],
   "source": [
    "import os\n",
    "\n",
    "\n",
    "OUTPUT_DIR = './output/'\n",
    "OUTTPUT_FILE = 'output_example.txt'\n",
    "os.makedirs(OUTPUT_DIR, exist_ok=True)\n",
    "\n",
    "output_path = os.path.join(OUTPUT_DIR, OUTTPUT_FILE)\n",
    "\n",
    "output_path\n"
   ]
  },
  {
   "cell_type": "code",
   "execution_count": 12,
   "metadata": {},
   "outputs": [],
   "source": [
    "\n",
    "# Виведення у файл\n",
    "with open(output_path, 'w', encoding='utf-8') as f:\n",
    "    print(\"Це виведення у файл\", file=f)\n",
    "    print(\"Можна виводити багато рядків\", file=f)\n",
    "    print(\"Дата:\", \"2025-01-15\", file=f)\n"
   ]
  },
  {
   "cell_type": "code",
   "execution_count": 13,
   "metadata": {},
   "outputs": [
    {
     "name": "stdout",
     "output_type": "stream",
     "text": [
      "\n",
      "Вміст файлу:\n",
      "Це виведення у файл\n",
      "Можна виводити багато рядків\n",
      "Дата: 2025-01-15\n",
      "\n"
     ]
    }
   ],
   "source": [
    "\n",
    "# Читаємо, що записали\n",
    "with open(output_path, 'r', encoding='utf-8') as f:\n",
    "    content = f.read()\n",
    "    print(\"\\nВміст файлу:\")\n",
    "    print(content)\n"
   ]
  },
  {
   "cell_type": "markdown",
   "metadata": {},
   "source": [
    " ## 1.2 Форматування виведення\n",
    "\n",
    "\n",
    "\n",
    " Python надає кілька способів форматування рядків. Розглянемо їх від старих до сучасних."
   ]
  },
  {
   "cell_type": "code",
   "execution_count": 14,
   "metadata": {},
   "outputs": [
    {
     "name": "stdout",
     "output_type": "stream",
     "text": [
      "\n",
      "================================================================================\n",
      "СПОСОБИ ФОРМАТУВАННЯ РЯДКІВ\n",
      "================================================================================\n"
     ]
    }
   ],
   "source": [
    "name = \"Олександр\"\n",
    "age = 28\n",
    "height = 1.82\n",
    "balance = 1234.567\n",
    "\n",
    "print(\"\\n\" + \"=\" * 80)\n",
    "print(\"СПОСОБИ ФОРМАТУВАННЯ РЯДКІВ\")\n",
    "print(\"=\" * 80)\n"
   ]
  },
  {
   "cell_type": "code",
   "execution_count": 15,
   "metadata": {},
   "outputs": [
    {
     "name": "stdout",
     "output_type": "stream",
     "text": [
      "Старий спосіб: Мене звати Олександр, мені 28 років\n"
     ]
    }
   ],
   "source": [
    "\n",
    "# 1. Старий спосіб - конкатенація (❌ НЕ РЕКОМЕНДУЄТЬСЯ)\n",
    "print(\"Старий спосіб: Мене звати \" + name + \", мені \" + str(age) + \" років\")\n"
   ]
  },
  {
   "cell_type": "code",
   "execution_count": 16,
   "metadata": {},
   "outputs": [
    {
     "name": "stdout",
     "output_type": "stream",
     "text": [
      "Метод format(): Мене звати Олександр, мені 28 років\n",
      "З індексами: Олександр має 28 років. Олександр живе в Україні\n",
      "З іменами: Олександр має 28 років\n"
     ]
    }
   ],
   "source": [
    "\n",
    "# 2. Метод format() (✓ гарний, але застарілий)\n",
    "print(\"Метод format(): Мене звати {}, мені {} років\".format(name, age))\n",
    "print(\"З індексами: {0} має {1} років. {0} живе в Україні\".format(name, age))\n",
    "print(\"З іменами: {name} має {a} років\".format(name=name, a=age))\n"
   ]
  },
  {
   "cell_type": "code",
   "execution_count": 17,
   "metadata": {},
   "outputs": [
    {
     "name": "stdout",
     "output_type": "stream",
     "text": [
      "F-string: Мене звати Олександр, мені 28 років\n"
     ]
    }
   ],
   "source": [
    "\n",
    "# 3. F-strings (✅ РЕКОМЕНДУЄТЬСЯ - Python 3.6+)\n",
    "print(f\"F-string: Мене звати {name}, мені {age} років\")\n"
   ]
  },
  {
   "cell_type": "markdown",
   "metadata": {},
   "source": [
    " ### F-strings - Потужність та гнучкість\n",
    "\n",
    "\n",
    "\n",
    " F-strings (formatted string literals) - це найсучасніший та найзручніший спосіб форматування в Python. Вони підтримують:\n",
    "\n",
    " - Вирази всередині дужок\n",
    "\n",
    " - Виклики функцій\n",
    "\n",
    " - Форматування чисел\n",
    "\n",
    " - Вирівнювання тексту"
   ]
  },
  {
   "cell_type": "code",
   "execution_count": 18,
   "metadata": {},
   "outputs": [
    {
     "name": "stdout",
     "output_type": "stream",
     "text": [
      "\n",
      "Вирази у f-strings:\n",
      "Через 5 років мені буде 33 років\n",
      "Подвоєний вік: 56\n",
      "Зріст у см: 182.0\n"
     ]
    }
   ],
   "source": [
    "# Вирази у f-strings\n",
    "print(f\"\\nВирази у f-strings:\")\n",
    "print(f\"Через 5 років мені буде {age + 5} років\")\n",
    "print(f\"Подвоєний вік: {age * 2}\")\n",
    "print(f\"Зріст у см: {height * 100}\")\n"
   ]
  },
  {
   "cell_type": "code",
   "execution_count": 19,
   "metadata": {},
   "outputs": [
    {
     "name": "stdout",
     "output_type": "stream",
     "text": [
      "\n",
      "Форматування чисел:\n",
      "Баланс: 1234.57 грн\n",
      "Баланс: 1,001,234.567000 грн\n",
      "Баланс:         1234.57 грн\n",
      "Баланс: 1234.57         грн\n",
      "Баланс:     1234.57     грн\n"
     ]
    }
   ],
   "source": [
    "\n",
    "# Форматування чисел\n",
    "print(f\"\\nФорматування чисел:\")\n",
    "print(f\"Баланс: {balance:.2f} грн\")  # 2 знаки після коми\n",
    "print(f\"Баланс: {balance+1000000:,.6f} грн\")  # З розділювачем тисяч\n",
    "print(f\"Баланс: {balance:>15.2f} грн\")  # Вирівнювання праворуч (15 символів)\n",
    "print(f\"Баланс: {balance:<15.2f} грн\")  # Вирівнювання ліворуч\n",
    "print(f\"Баланс: {balance:^15.2f} грн\")  # По центру\n"
   ]
  },
  {
   "cell_type": "code",
   "execution_count": 20,
   "metadata": {},
   "outputs": [
    {
     "name": "stdout",
     "output_type": "stream",
     "text": [
      "\n",
      "Точність: 95.85%\n",
      "Велике число: 1.234568e+15\n"
     ]
    }
   ],
   "source": [
    "\n",
    "# Відсотки та наукова нотація\n",
    "accuracy = 0.95847\n",
    "print(f\"\\nТочність: {accuracy:.2%}\")  # Як відсоток\n",
    "big_number = 1234567899999990\n",
    "print(f\"Велике число: {big_number:e}\")  # Наукова нотація\n"
   ]
  },
  {
   "cell_type": "markdown",
   "metadata": {},
   "source": [
    " ### Математичне форматування\n",
    "\n",
    "\n",
    "\n",
    " Для математичних констант та обчислень краще використовувати вбудовану бібліотеку `math`."
   ]
  },
  {
   "cell_type": "code",
   "execution_count": 21,
   "metadata": {},
   "outputs": [
    {
     "name": "stdout",
     "output_type": "stream",
     "text": [
      "\n",
      "================================================================================\n",
      "ВИКОРИСТАННЯ МОДУЛЯ math\n",
      "================================================================================\n",
      "Погана практика: π ≈ 3.14\n"
     ]
    }
   ],
   "source": [
    "import math\n",
    "\n",
    "print(\"\\n\" + \"=\" * 80)\n",
    "print(\"ВИКОРИСТАННЯ МОДУЛЯ math\")\n",
    "print(\"=\" * 80)\n",
    "\n",
    "# ❌ НЕ РОБІТЬ ТАК:\n",
    "pi_bad = 3.14\n",
    "print(f\"Погана практика: π ≈ {pi_bad}\")\n"
   ]
  },
  {
   "cell_type": "code",
   "execution_count": 22,
   "metadata": {},
   "outputs": [
    {
     "name": "stdout",
     "output_type": "stream",
     "text": [
      "Гарна практика: π = 3.1415926535897931159979634685441851615905761718750000000000000000000000000000000000000000000000000000\n",
      "Число e: 2.718281828459045\n",
      "τ (тау): 6.283185307179586\n"
     ]
    }
   ],
   "source": [
    "\n",
    "# ✅ РОБІТЬ ТАК:\n",
    "print(f\"Гарна практика: π = {math.pi:.100f}\")\n",
    "print(f\"Число e: {math.e}\")\n",
    "print(f\"τ (тау): {math.tau}\")"
   ]
  },
  {
   "cell_type": "code",
   "execution_count": 23,
   "metadata": {},
   "outputs": [
    {
     "name": "stdout",
     "output_type": "stream",
     "text": [
      "\n",
      "π з різною точністю:\n",
      "2 знаки: 3.14\n",
      "5 знаків: 3.14159\n",
      "10 знаків: 3.1415926536\n",
      "\n",
      "Коло з радіусом 5:\n",
      "Площа: 78.54\n",
      "Довжина кола: 31.42\n"
     ]
    }
   ],
   "source": [
    "\n",
    "# Форматування математичних констант\n",
    "print(f\"\\nπ з різною точністю:\")\n",
    "print(f\"2 знаки: {math.pi:.2f}\")\n",
    "print(f\"5 знаків: {math.pi:.5f}\")\n",
    "print(f\"10 знаків: {math.pi:.10f}\")\n",
    "\n",
    "# Математичні операції\n",
    "radius = 5\n",
    "area = math.pi * radius ** 2\n",
    "circumference = 2 * math.pi * radius\n",
    "\n",
    "print(f\"\\nКоло з радіусом {radius}:\")\n",
    "print(f\"Площа: {area:.2f}\")\n",
    "print(f\"Довжина кола: {circumference:.2f}\")\n"
   ]
  },
  {
   "cell_type": "markdown",
   "metadata": {},
   "source": [
    " ## 1.3 Функція `input()` - Отримання даних від користувача\n",
    "\n",
    "\n",
    "\n",
    " `input()` зупиняє виконання програми та чекає введення від користувача. Завжди повертає **рядок (string)**!\n",
    "\n",
    "\n",
    "\n",
    " ### ⚠️ Важливо розуміти:\n",
    "\n",
    " - У реальних проектах `input()` використовується рідко\n",
    "\n",
    " - Дані зазвичай беруться з файлів, баз даних, API або веб-форм\n",
    "\n",
    " - `input()` корисний для навчання та простих скриптів"
   ]
  },
  {
   "cell_type": "code",
   "execution_count": 24,
   "metadata": {},
   "outputs": [
    {
     "name": "stdout",
     "output_type": "stream",
     "text": [
      "Привіт, Андрій!\n",
      "Ви ввели: '25' (тип: str)\n"
     ]
    }
   ],
   "source": [
    "# Базове використання input() (закоментовано для автоматичного запуску)\n",
    "name = input(\"Введіть ваше ім'я: \")\n",
    "# print(f\"Привіт, {name}!\")\n",
    "\n",
    "# Для демонстрації використаємо змінну\n",
    "name = name or \"Андрій\"  # замість input()\n",
    "print(f\"Привіт, {name}!\")\n",
    "\n",
    "# Важливо! input() завжди повертає рядок\n",
    "age_str = input(\"Скільки вам років? \")\n",
    "age_str =  age_str or \"25\"   # замість input()\n",
    "print(f\"Ви ввели: '{age_str}' (тип: {type(age_str).__name__})\")\n"
   ]
  },
  {
   "cell_type": "markdown",
   "metadata": {},
   "source": [
    " ## 1.4 Перетворення типів даних (Type Casting)\n",
    "\n",
    "\n",
    "\n",
    " Оскільки `input()` повертає рядок, часто потрібно конвертувати дані в інші типи:\n",
    "\n",
    " - `int()` - ціле число\n",
    "\n",
    " - `float()` - дробове число\n",
    "\n",
    " - `str()` - рядок\n",
    "\n",
    " - `bool()` - логічне значення\n",
    "\n",
    " - `list()`, `tuple()`, `set()` - колекції"
   ]
  },
  {
   "cell_type": "code",
   "execution_count": 25,
   "metadata": {},
   "outputs": [
    {
     "name": "stdout",
     "output_type": "stream",
     "text": [
      "\n",
      "================================================================================\n",
      "ПЕРЕТВОРЕННЯ ТИПІВ ДАНИХ\n",
      "================================================================================\n"
     ]
    }
   ],
   "source": [
    "print(\"\\n\" + \"=\" * 80)\n",
    "print(\"ПЕРЕТВОРЕННЯ ТИПІВ ДАНИХ\")\n",
    "print(\"=\" * 80)\n"
   ]
  },
  {
   "cell_type": "code",
   "execution_count": null,
   "metadata": {},
   "outputs": [],
   "source": []
  },
  {
   "cell_type": "code",
   "execution_count": 26,
   "metadata": {},
   "outputs": [
    {
     "name": "stdout",
     "output_type": "stream",
     "text": [
      "Рядок '28' -> Число 28\n",
      "Типи: str -> int\n",
      "\n",
      "Рядок '19.99' -> Float 19.99\n",
      "Типи: str -> float\n"
     ]
    }
   ],
   "source": [
    "\n",
    "# Перетворення рядків у числа\n",
    "age_str = \"28\"\n",
    "age_int = int(age_str)\n",
    "print(f\"Рядок '{age_str}' -> Число {age_int}\")\n",
    "print(f\"Типи: {type(age_str).__name__} -> {type(age_int).__name__}\")\n",
    "\n",
    "price_str = \"19.99\"\n",
    "price_float = float(price_str)\n",
    "print(f\"\\nРядок '{price_str}' -> Float {price_float}\")\n",
    "print(f\"Типи: {type(price_str).__name__} -> {type(price_float).__name__}\")\n"
   ]
  },
  {
   "cell_type": "code",
   "execution_count": null,
   "metadata": {},
   "outputs": [],
   "source": []
  },
  {
   "cell_type": "code",
   "execution_count": 27,
   "metadata": {},
   "outputs": [
    {
     "name": "stdout",
     "output_type": "stream",
     "text": [
      "\n",
      "Число 42 -> Рядок '42'\n",
      "Типи: int -> str\n",
      "\n",
      "Перетворення у bool:\n",
      "bool(0) = False\n",
      "bool(1) = True\n",
      "bool(-5) = True\n",
      "bool('') = False\n",
      "bool('text') = True\n"
     ]
    }
   ],
   "source": [
    "\n",
    "# Перетворення чисел у рядки\n",
    "number = 42\n",
    "text = str(number)\n",
    "print(f\"\\nЧисло {number} -> Рядок '{text}'\")\n",
    "print(f\"Типи: {type(number).__name__} -> {type(text).__name__}\")\n",
    "\n",
    "# Перетворення у bool\n",
    "print(\"\\nПеретворення у bool:\")\n",
    "print(f\"bool(0) = {bool(0)}\")  # False\n",
    "print(f\"bool(1) = {bool(1)}\")  # True\n",
    "print(f\"bool(-5) = {bool(-5)}\")  # True\n",
    "print(f\"bool('') = {bool('')}\")  # False (порожній рядок)\n",
    "print(f\"bool('text') = {bool('text')}\")  # True\n"
   ]
  },
  {
   "cell_type": "markdown",
   "metadata": {},
   "source": [
    " ### Обробка помилок при перетворенні\n",
    "\n",
    "\n",
    "\n",
    " При перетворенні типів можуть виникати помилки. Важливо їх обробляти!"
   ]
  },
  {
   "cell_type": "code",
   "execution_count": 28,
   "metadata": {},
   "outputs": [
    {
     "name": "stdout",
     "output_type": "stream",
     "text": [
      "\n",
      "================================================================================\n",
      "БЕЗПЕЧНЕ ПЕРЕТВОРЕННЯ ТИПІВ\n",
      "================================================================================\n",
      "'123' -> 123\n",
      "❌ Помилка: 'abc' не можна перетворити у число!\n",
      "'abc' -> None\n",
      "❌ Помилка: '12.5' не можна перетворити у число!\n",
      "'12.5' -> None\n"
     ]
    }
   ],
   "source": [
    "# Приклад безпечного перетворення\n",
    "def safe_int_conversion(value):\n",
    "    \"\"\"Безпечне перетворення у int з обробкою помилок\"\"\"\n",
    "    try:\n",
    "        return int(value)\n",
    "    except ValueError:\n",
    "        print(f\"❌ Помилка: '{value}' не можна перетворити у число!\")\n",
    "        return None\n",
    "\n",
    "# Тести\n",
    "print(\"\\n\" + \"=\" * 80)\n",
    "print(\"БЕЗПЕЧНЕ ПЕРЕТВОРЕННЯ ТИПІВ\")\n",
    "print(\"=\" * 80)\n",
    "\n",
    "result1 = safe_int_conversion(\"123\")\n",
    "print(f\"'123' -> {result1}\")\n",
    "\n",
    "result2 = safe_int_conversion(\"abc\")\n",
    "print(f\"'abc' -> {result2}\")\n",
    "\n",
    "result3 = safe_int_conversion(\"12.5\")\n",
    "print(f\"'12.5' -> {result3}\")\n"
   ]
  },
  {
   "cell_type": "markdown",
   "metadata": {},
   "source": [
    " ## 1.5 📁 Робота з файлами замість `input()` - Практичний підхід\n",
    "\n",
    "\n",
    "\n",
    " ### Чому файли краще за input()?\n",
    "\n",
    "\n",
    "\n",
    " 1. **Автоматизація**: Не потрібно вручну вводити дані кожен раз\n",
    "\n",
    " 2. **Великі обсяги даних**: Легко працювати з тисячами записів\n",
    "\n",
    " 3. **Повторюваність**: Можна багато разів запускати з тими самими даними\n",
    "\n",
    " 4. **Реальність**: У реальних проектах дані завжди з файлів/БД/API\n",
    "\n",
    " 5. **Тестування**: Легше тестувати код\n",
    "\n",
    "\n",
    "\n",
    " ### Формати файлів:\n",
    "\n",
    " - **TXT** - простий текст\n",
    "\n",
    " - **CSV** - табличні дані (Comma Separated Values)\n",
    "\n",
    " - **JSON** - структуровані дані\n",
    "\n",
    " - **Excel** (.xlsx) - таблиці з форматуванням"
   ]
  },
  {
   "cell_type": "code",
   "execution_count": 29,
   "metadata": {},
   "outputs": [
    {
     "name": "stdout",
     "output_type": "stream",
     "text": [
      "\n",
      "================================================================================\n",
      "СТВОРЕННЯ ТЕСТОВИХ ФАЙЛІВ\n",
      "================================================================================\n",
      "✅ Створено user_data.txt\n",
      "✅ Створено employees.csv\n",
      "✅ Створено users.json\n"
     ]
    }
   ],
   "source": [
    "\n",
    "file = 'user_data.txt'\n",
    "\n",
    "file_txt_path = os.path.join(OUTPUT_DIR, file)\n",
    "\n",
    "# Створимо приклади файлів для роботи\n",
    "print(\"\\n\" + \"=\" * 80)\n",
    "print(\"СТВОРЕННЯ ТЕСТОВИХ ФАЙЛІВ\")\n",
    "print(\"=\" * 80)\n",
    "\n",
    "# 1. Створення простого текстового файлу\n",
    "with open(file_txt_path, 'w', encoding='utf-8') as f:\n",
    "    f.write(\"Олександр\\n\")\n",
    "    f.write(\"28\\n\")\n",
    "    f.write(\"Київ\\n\")\n",
    "    f.write(\"1.82\\n\")\n",
    "\n",
    "print(\"✅ Створено user_data.txt\")\n",
    "\n",
    "# 2. Створення CSV файлу\n",
    "import csv\n",
    "\n",
    "file_csv_path =  os.path.join(OUTPUT_DIR, f'{file.split(\".\")[0] + \".csv\"}')\n",
    "\n",
    "with open(file_csv_path, 'w', newline='', encoding='utf-8') as f:\n",
    "    writer = csv.writer(f)\n",
    "    writer.writerow(['Ім\\'я', 'Вік', 'Місто', 'Зарплата'])\n",
    "    writer.writerow(['Олександр', 28, 'Київ', 50000])\n",
    "    writer.writerow(['Марія', 25, 'Львів', 48000])\n",
    "    writer.writerow(['Іван', 32, 'Одеса', 55000])\n",
    "    writer.writerow(['Світлана', 29, 'Київ', 52000])\n",
    "\n",
    "print(\"✅ Створено employees.csv\")\n",
    "\n",
    "# 3. Створення JSON файлу\n",
    "import json\n",
    "\n",
    "file_json_path =  os.path.join(OUTPUT_DIR, f'{file.split(\".\")[0] + \".json\"}')\n",
    "\n",
    "data = {\n",
    "    \"users\": [\n",
    "        {\"name\": \"Олександр\", \"age\": 28, \"city\": \"Київ\", \"skills\": [\"Python\", \"SQL\"]},\n",
    "        {\"name\": \"Марія\", \"age\": 25, \"city\": \"Львів\", \"skills\": [\"JavaScript\", \"React\"]},\n",
    "        {\"name\": \"Іван\", \"age\": 32, \"city\": \"Одеса\", \"skills\": [\"Java\", \"Spring\"]}\n",
    "    ]\n",
    "}\n",
    "\n",
    "with open(file_json_path, 'w', encoding='utf-8') as f:\n",
    "    json.dump(data, f, ensure_ascii=False, indent=2)\n",
    "\n",
    "print(\"✅ Створено users.json\")\n"
   ]
  },
  {
   "cell_type": "markdown",
   "metadata": {},
   "source": [
    " ### Читання простого текстового файлу"
   ]
  },
  {
   "cell_type": "code",
   "execution_count": 30,
   "metadata": {},
   "outputs": [
    {
     "name": "stdout",
     "output_type": "stream",
     "text": [
      "\n",
      "================================================================================\n",
      "ЧИТАННЯ ТЕКСТОВОГО ФАЙЛУ\n",
      "================================================================================\n",
      "Весь вміст файлу:\n",
      "Олександр\n",
      "28\n",
      "Київ\n",
      "1.82\n",
      "\n",
      "\n",
      "Розпарсені дані:\n",
      "Ім'я: Олександр\n",
      "Вік: 28\n",
      "Місто: Київ\n",
      "Зріст: 1.82 м\n"
     ]
    }
   ],
   "source": [
    "print(\"\\n\" + \"=\" * 80)\n",
    "print(\"ЧИТАННЯ ТЕКСТОВОГО ФАЙЛУ\")\n",
    "print(\"=\" * 80)\n",
    "\n",
    "# Спосіб 1: Читання всього файлу\n",
    "with open(file_txt_path, 'r', encoding='utf-8') as f:\n",
    "    content = f.read()\n",
    "    print(\"Весь вміст файлу:\")\n",
    "    print(content)\n",
    "\n",
    "# Спосіб 2: Читання по рядках\n",
    "with open(file_txt_path, 'r', encoding='utf-8') as f:\n",
    "    lines = f.readlines()\n",
    "    name = lines[0].strip()\n",
    "    age = int(lines[1].strip())\n",
    "    city = lines[2].strip()\n",
    "    height = float(lines[3].strip())\n",
    "    \n",
    "    print(f\"\\nРозпарсені дані:\")\n",
    "    print(f\"Ім'я: {name}\")\n",
    "    print(f\"Вік: {age}\")\n",
    "    print(f\"Місто: {city}\")\n",
    "    print(f\"Зріст: {height} м\")\n"
   ]
  },
  {
   "cell_type": "markdown",
   "metadata": {},
   "source": [
    " ### Читання CSV файлу\n",
    "\n",
    "\n",
    "\n",
    " CSV (Comma-Separated Values) - це один з найпопулярніших форматів для табличних даних. Python має вбудований модуль `csv`, але ще краще використовувати `pandas`."
   ]
  },
  {
   "cell_type": "code",
   "execution_count": 31,
   "metadata": {},
   "outputs": [
    {
     "name": "stdout",
     "output_type": "stream",
     "text": [
      "\n",
      "================================================================================\n",
      "ЧИТАННЯ CSV - Базовий спосіб\n",
      "================================================================================\n",
      "Співробітники:\n",
      "  Олександр, 28 років, Київ, 50000 грн\n",
      "  Марія, 25 років, Львів, 48000 грн\n",
      "  Іван, 32 років, Одеса, 55000 грн\n",
      "  Світлана, 29 років, Київ, 52000 грн\n"
     ]
    }
   ],
   "source": [
    "print(\"\\n\" + \"=\" * 80)\n",
    "print(\"ЧИТАННЯ CSV - Базовий спосіб\")\n",
    "print(\"=\" * 80)\n",
    "\n",
    "# Спосіб 1: Вбудований модуль csv\n",
    "import csv\n",
    "\n",
    "with open(file_csv_path, 'r', encoding='utf-8') as f:\n",
    "    reader = csv.DictReader(f)\n",
    "    print(\"Співробітники:\")\n",
    "    for row in reader:\n",
    "        print(f\"  {row['Ім\\'я']}, {row['Вік']} років, \"\n",
    "              f\"{row['Місто']}, {row['Зарплата']} грн\")\n"
   ]
  },
  {
   "cell_type": "markdown",
   "metadata": {},
   "source": [
    " ### Читання CSV за допомогою pandas\n",
    "\n",
    "\n",
    "\n",
    " **pandas** - це потужна бібліотека для роботи з даними. Вона робить роботу з CSV набагато простішою!\n",
    "\n",
    "\n",
    "\n",
    " Переваги pandas:\n",
    "\n",
    " - Автоматичне визначення типів даних\n",
    "\n",
    " - Зручні методи для аналізу\n",
    "\n",
    " - Легка фільтрація та сортування\n",
    "\n",
    " - Інтеграція з іншими бібліотеками"
   ]
  },
  {
   "cell_type": "code",
   "execution_count": 32,
   "metadata": {},
   "outputs": [
    {
     "name": "stdout",
     "output_type": "stream",
     "text": [
      "\n",
      "================================================================================\n",
      "ЧИТАННЯ CSV - pandas\n",
      "================================================================================\n",
      "Повна таблиця:\n",
      "        Ім'я  Вік  Місто  Зарплата\n",
      "0  Олександр   28   Київ     50000\n",
      "1      Марія   25  Львів     48000\n",
      "2       Іван   32  Одеса     55000\n",
      "3   Світлана   29   Київ     52000\n",
      "\n",
      "----------------------------------------\n",
      "Базова статистика:\n",
      "             Вік      Зарплата\n",
      "count   4.000000      4.000000\n",
      "mean   28.500000  51250.000000\n",
      "std     2.886751   2986.078811\n",
      "min    25.000000  48000.000000\n",
      "25%    27.250000  49500.000000\n",
      "50%    28.500000  51000.000000\n",
      "75%    29.750000  52750.000000\n",
      "max    32.000000  55000.000000\n",
      "\n",
      "----------------------------------------\n",
      "Середня зарплата по містах:\n",
      "Місто\n",
      "Київ     51000.0\n",
      "Львів    48000.0\n",
      "Одеса    55000.0\n",
      "Name: Зарплата, dtype: float64\n",
      "\n",
      "----------------------------------------\n",
      "Співробітники з Києва:\n",
      "        Ім'я  Вік Місто  Зарплата\n",
      "0  Олександр   28  Київ     50000\n",
      "3   Світлана   29  Київ     52000\n"
     ]
    }
   ],
   "source": [
    "# Спосіб 2: pandas (РЕКОМЕНДУЄТЬСЯ для табличних даних)\n",
    "import pandas as pd\n",
    "\n",
    "print(\"\\n\" + \"=\" * 80)\n",
    "print(\"ЧИТАННЯ CSV - pandas\")\n",
    "print(\"=\" * 80)\n",
    "\n",
    "# Читаємо CSV\n",
    "df = pd.read_csv(file_csv_path)\n",
    "\n",
    "print(\"Повна таблиця:\")\n",
    "print(df)\n",
    "\n",
    "print(\"\\n\" + \"-\" * 40)\n",
    "print(\"Базова статистика:\")\n",
    "print(df.describe())\n",
    "\n",
    "print(\"\\n\" + \"-\" * 40)\n",
    "print(\"Середня зарплата по містах:\")\n",
    "print(df.groupby('Місто')['Зарплата'].mean())\n",
    "\n",
    "# Фільтрація\n",
    "print(\"\\n\" + \"-\" * 40)\n",
    "print(\"Співробітники з Києва:\")\n",
    "kyiv_employees = df[df['Місто'] == 'Київ']\n",
    "print(kyiv_employees)\n"
   ]
  },
  {
   "cell_type": "code",
   "execution_count": 33,
   "metadata": {},
   "outputs": [
    {
     "data": {
      "text/html": [
       "<div>\n",
       "<style scoped>\n",
       "    .dataframe tbody tr th:only-of-type {\n",
       "        vertical-align: middle;\n",
       "    }\n",
       "\n",
       "    .dataframe tbody tr th {\n",
       "        vertical-align: top;\n",
       "    }\n",
       "\n",
       "    .dataframe thead th {\n",
       "        text-align: right;\n",
       "    }\n",
       "</style>\n",
       "<table border=\"1\" class=\"dataframe\">\n",
       "  <thead>\n",
       "    <tr style=\"text-align: right;\">\n",
       "      <th></th>\n",
       "      <th>Ім'я</th>\n",
       "      <th>Вік</th>\n",
       "      <th>Місто</th>\n",
       "      <th>Зарплата</th>\n",
       "    </tr>\n",
       "  </thead>\n",
       "  <tbody>\n",
       "    <tr>\n",
       "      <th>0</th>\n",
       "      <td>Олександр</td>\n",
       "      <td>28</td>\n",
       "      <td>Київ</td>\n",
       "      <td>50000</td>\n",
       "    </tr>\n",
       "    <tr>\n",
       "      <th>1</th>\n",
       "      <td>Марія</td>\n",
       "      <td>25</td>\n",
       "      <td>Львів</td>\n",
       "      <td>48000</td>\n",
       "    </tr>\n",
       "    <tr>\n",
       "      <th>2</th>\n",
       "      <td>Іван</td>\n",
       "      <td>32</td>\n",
       "      <td>Одеса</td>\n",
       "      <td>55000</td>\n",
       "    </tr>\n",
       "    <tr>\n",
       "      <th>3</th>\n",
       "      <td>Світлана</td>\n",
       "      <td>29</td>\n",
       "      <td>Київ</td>\n",
       "      <td>52000</td>\n",
       "    </tr>\n",
       "  </tbody>\n",
       "</table>\n",
       "</div>"
      ],
      "text/plain": [
       "        Ім'я  Вік  Місто  Зарплата\n",
       "0  Олександр   28   Київ     50000\n",
       "1      Марія   25  Львів     48000\n",
       "2       Іван   32  Одеса     55000\n",
       "3   Світлана   29   Київ     52000"
      ]
     },
     "execution_count": 33,
     "metadata": {},
     "output_type": "execute_result"
    }
   ],
   "source": [
    "df"
   ]
  },
  {
   "cell_type": "markdown",
   "metadata": {},
   "source": [
    " ### Читання JSON файлу\n",
    "\n",
    "\n",
    "\n",
    " JSON (JavaScript Object Notation) - популярний формат для структурованих даних, особливо в веб-розробці та API."
   ]
  },
  {
   "cell_type": "code",
   "execution_count": 34,
   "metadata": {},
   "outputs": [
    {
     "name": "stdout",
     "output_type": "stream",
     "text": [
      "\n",
      "================================================================================\n",
      "ЧИТАННЯ JSON\n",
      "================================================================================\n",
      "Користувачі:\n",
      "\n",
      "👤 Олександр:\n",
      "   Вік: 28\n",
      "   Місто: Київ\n",
      "   Навички: Python, SQL\n",
      "\n",
      "👤 Марія:\n",
      "   Вік: 25\n",
      "   Місто: Львів\n",
      "   Навички: JavaScript, React\n",
      "\n",
      "👤 Іван:\n",
      "   Вік: 32\n",
      "   Місто: Одеса\n",
      "   Навички: Java, Spring\n"
     ]
    }
   ],
   "source": [
    "print(\"\\n\" + \"=\" * 80)\n",
    "print(\"ЧИТАННЯ JSON\")\n",
    "print(\"=\" * 80)\n",
    "\n",
    "with open(file_json_path, 'r', encoding='utf-8') as f:\n",
    "    data = json.load(f)\n",
    "\n",
    "print(\"Користувачі:\")\n",
    "for user in data['users']:\n",
    "    print(f\"\\n👤 {user['name']}:\")\n",
    "    print(f\"   Вік: {user['age']}\")\n",
    "    print(f\"   Місто: {user['city']}\")\n",
    "    print(f\"   Навички: {', '.join(user['skills'])}\")\n"
   ]
  },
  {
   "cell_type": "code",
   "execution_count": 35,
   "metadata": {},
   "outputs": [],
   "source": [
    "df = pd.read_json(file_json_path, )"
   ]
  },
  {
   "cell_type": "code",
   "execution_count": 36,
   "metadata": {},
   "outputs": [
    {
     "data": {
      "text/html": [
       "<div>\n",
       "<style scoped>\n",
       "    .dataframe tbody tr th:only-of-type {\n",
       "        vertical-align: middle;\n",
       "    }\n",
       "\n",
       "    .dataframe tbody tr th {\n",
       "        vertical-align: top;\n",
       "    }\n",
       "\n",
       "    .dataframe thead th {\n",
       "        text-align: right;\n",
       "    }\n",
       "</style>\n",
       "<table border=\"1\" class=\"dataframe\">\n",
       "  <thead>\n",
       "    <tr style=\"text-align: right;\">\n",
       "      <th></th>\n",
       "      <th>users</th>\n",
       "    </tr>\n",
       "  </thead>\n",
       "  <tbody>\n",
       "    <tr>\n",
       "      <th>0</th>\n",
       "      <td>{'name': 'Олександр', 'age': 28, 'city': 'Київ...</td>\n",
       "    </tr>\n",
       "    <tr>\n",
       "      <th>1</th>\n",
       "      <td>{'name': 'Марія', 'age': 25, 'city': 'Львів', ...</td>\n",
       "    </tr>\n",
       "    <tr>\n",
       "      <th>2</th>\n",
       "      <td>{'name': 'Іван', 'age': 32, 'city': 'Одеса', '...</td>\n",
       "    </tr>\n",
       "  </tbody>\n",
       "</table>\n",
       "</div>"
      ],
      "text/plain": [
       "                                               users\n",
       "0  {'name': 'Олександр', 'age': 28, 'city': 'Київ...\n",
       "1  {'name': 'Марія', 'age': 25, 'city': 'Львів', ...\n",
       "2  {'name': 'Іван', 'age': 32, 'city': 'Одеса', '..."
      ]
     },
     "execution_count": 36,
     "metadata": {},
     "output_type": "execute_result"
    }
   ],
   "source": [
    "df"
   ]
  },
  {
   "cell_type": "markdown",
   "metadata": {},
   "source": [
    " ### Приклад: Калькулятор з читанням даних з файлу\n",
    "\n",
    "\n",
    "\n",
    " Порівняємо два підходи: input() vs файли"
   ]
  },
  {
   "cell_type": "code",
   "execution_count": 37,
   "metadata": {},
   "outputs": [
    {
     "name": "stdout",
     "output_type": "stream",
     "text": [
      "\n",
      "================================================================================\n",
      "КАЛЬКУЛЯТОР: input() VS файли\n",
      "================================================================================\n",
      "\n",
      "Підхід з файлом (можна обробити багато операцій):\n",
      "10.0 + 5.0 = 15.0\n",
      "20.0 - 8.0 = 12.0\n",
      "7.0 * 6.0 = 42.0\n",
      "100.0 / 4.0 = 25.0\n",
      "15.0 * 3.0 = 45.0\n"
     ]
    }
   ],
   "source": [
    "print(\"\\n\" + \"=\" * 80)\n",
    "print(\"КАЛЬКУЛЯТОР: input() VS файли\")\n",
    "print(\"=\" * 80)\n",
    "\n",
    "# ❌ Старий підхід з input() (незручний для багатократного використання)\n",
    "def calculator_with_input():\n",
    "    \"\"\"Калькулятор з input - потрібно вводити кожен раз вручну\"\"\"\n",
    "    # num1 = float(input(\"Введіть перше число: \"))\n",
    "    # num2 = float(input(\"Введіть друге число: \"))\n",
    "    operation = input(\"Операція (+, -, *, /): \")\n",
    "    \n",
    "    # Для демонстрації:\n",
    "    num1, num2, operation = 10, 5, operation or \"+\" \n",
    "    \n",
    "    if operation == '+':\n",
    "        result = num1 + num2\n",
    "    elif operation == '-':\n",
    "        result = num1 - num2\n",
    "    elif operation == '*':\n",
    "        result = num1 * num2\n",
    "    elif operation == '/':\n",
    "        result = num1 / num2\n",
    "    else:\n",
    "        result = None\n",
    "    \n",
    "    print(f\"{num1} {operation} {num2} = {result}\")\n",
    "\n",
    "# ✅ Сучасний підхід з файлами (автоматизація)\n",
    "def calculator_with_file(filename):\n",
    "    \"\"\"Калькулятор з файлом - можна обробити багато операцій автоматично\"\"\"\n",
    "    with open(filename, 'r') as f:\n",
    "        for line in f:\n",
    "            parts = line.strip().split()\n",
    "            if len(parts) != 3:\n",
    "                continue\n",
    "            \n",
    "            num1 = float(parts[0])\n",
    "            operation = parts[1]\n",
    "            num2 = float(parts[2])\n",
    "            \n",
    "            if operation == '+':\n",
    "                result = num1 + num2\n",
    "            elif operation == '-':\n",
    "                result = num1 - num2\n",
    "            elif operation == '*':\n",
    "                result = num1 * num2\n",
    "            elif operation == '/':\n",
    "                result = num1 / num2 if num2 != 0 else 'Error: Division by zero'\n",
    "            \n",
    "            print(f\"{num1} {operation} {num2} = {result}\")\n",
    "\n",
    "\n",
    "file_txt_path = os.path.join(OUTPUT_DIR, 'calculations.txt')\n",
    "\n",
    "\n",
    "# Створюємо файл з операціями\n",
    "with open(file_txt_path, 'w') as f:\n",
    "    f.write(\"10 + 5\\n\")\n",
    "    f.write(\"20 - 8\\n\")\n",
    "    f.write(\"7 * 6\\n\")\n",
    "    f.write(\"100 / 4\\n\")\n",
    "    f.write(\"15 * 3\\n\")\n",
    "\n",
    "print(\"\\nПідхід з файлом (можна обробити багато операцій):\")\n",
    "calculator_with_file(file_txt_path)\n"
   ]
  },
  {
   "cell_type": "markdown",
   "metadata": {},
   "source": [
    " ## 1.6 📊 Використання спеціалізованих бібліотек\n",
    "\n",
    "\n",
    "\n",
    " Python має безліч бібліотек, які вже реалізують типові задачі. Не варто \"винаходити велосипед\"!"
   ]
  },
  {
   "cell_type": "code",
   "execution_count": 38,
   "metadata": {},
   "outputs": [
    {
     "name": "stdout",
     "output_type": "stream",
     "text": [
      "\n",
      "================================================================================\n",
      "СПЕЦІАЛІЗОВАНІ БІБЛІОТЕКИ\n",
      "================================================================================\n",
      "\n",
      "📅 datetime - Робота з датою і часом:\n",
      "Зараз: 2025-10-25 18:23:41.208333\n",
      "Форматовано: 25.10.2025 18:23:41\n",
      "Через тиждень: 2025-11-01 18:23:41.208333\n",
      "\n",
      "🎲 random - Випадкові числа:\n",
      "Випадкове число (0-100): 91\n",
      "Випадкове float (0-1): 0.2553\n",
      "Вибір зі списку: JavaScript\n",
      "\n",
      "📊 statistics - Статистика:\n",
      "Дані: [23, 45, 67, 23, 89, 12, 45, 67, 89, 45]\n",
      "Середнє: 50.50\n",
      "Медіана: 45.0\n",
      "Мода: 45\n",
      "Стандартне відхилення: 27.07\n",
      "\n",
      "📁 pathlib - Робота зі шляхами:\n",
      "Існує: True\n",
      "Розширення: .txt\n",
      "Ім'я файлу: output_example.txt\n",
      "Директорія: output\n"
     ]
    }
   ],
   "source": [
    "print(\"\\n\" + \"=\" * 80)\n",
    "print(\"СПЕЦІАЛІЗОВАНІ БІБЛІОТЕКИ\")\n",
    "print(\"=\" * 80)\n",
    "\n",
    "# 1. datetime - робота з датою та часом\n",
    "from datetime import datetime, timedelta\n",
    "\n",
    "print(\"\\n📅 datetime - Робота з датою і часом:\")\n",
    "now = datetime.now()\n",
    "print(f\"Зараз: {now}\")\n",
    "print(f\"Форматовано: {now.strftime('%d.%m.%Y %H:%M:%S')}\")\n",
    "print(f\"Через тиждень: {now + timedelta(days=7)}\")\n",
    "\n",
    "# 2. random - випадкові числа\n",
    "import random\n",
    "\n",
    "print(\"\\n🎲 random - Випадкові числа:\")\n",
    "print(f\"Випадкове число (0-100): {random.randint(0, 100)}\")\n",
    "print(f\"Випадкове float (0-1): {random.random():.4f}\")\n",
    "print(f\"Вибір зі списку: {random.choice(['Python', 'Java', 'C++', 'JavaScript'])}\")\n",
    "\n",
    "# 3. statistics - статистика\n",
    "import statistics\n",
    "\n",
    "data = [23, 45, 67, 23, 89, 12, 45, 67, 89, 45]\n",
    "print(\"\\n📊 statistics - Статистика:\")\n",
    "print(f\"Дані: {data}\")\n",
    "print(f\"Середнє: {statistics.mean(data):.2f}\")\n",
    "print(f\"Медіана: {statistics.median(data)}\")\n",
    "print(f\"Мода: {statistics.mode(data)}\")\n",
    "print(f\"Стандартне відхилення: {statistics.stdev(data):.2f}\")\n",
    "\n",
    "# 4. pathlib - робота зі шляхами\n",
    "from pathlib import Path\n",
    "\n",
    "print(\"\\n📁 pathlib - Робота зі шляхами:\")\n",
    "current_file = Path(f'./{OUTPUT_DIR}/output_example.txt')\n",
    "print(f\"Існує: {current_file.exists()}\")\n",
    "print(f\"Розширення: {current_file.suffix}\")\n",
    "print(f\"Ім'я файлу: {current_file.name}\")\n",
    "print(f\"Директорія: {current_file.parent}\")\n"
   ]
  },
  {
   "cell_type": "markdown",
   "metadata": {},
   "source": [
    " ---\n",
    "\n",
    "\n",
    "\n",
    " # 🔧 Частина 2: Functions (Функції)\n",
    "\n",
    "\n",
    "\n",
    " ## 2.1 Що таке функція?\n",
    "\n",
    "\n",
    "\n",
    " **Функція** - це іменований блок коду, який виконує конкретну задачу. Функції - основа модульного програмування.\n",
    "\n",
    "\n",
    "\n",
    " ### Навіщо потрібні функції?\n",
    "\n",
    "\n",
    "\n",
    " 1. **DRY принцип** (Don't Repeat Yourself) - не повторюйте код\n",
    "\n",
    " 2. **Читабельність** - код легше читати та розуміти\n",
    "\n",
    " 3. **Тестування** - легше тестувати окремі функції\n",
    "\n",
    " 4. **Повторне використання** - одну функцію можна використовувати багато разів\n",
    "\n",
    " 5. **Абстракція** - ховаємо складність реалізації\n",
    "\n",
    "\n",
    "\n",
    " ### Синтаксис:\n",
    "\n",
    " ```python\n",
    "\n",
    " def function_name(parameters):\n",
    "\n",
    "     # код функції\n",
    "\n",
    "     return result\n",
    "\n",
    " ```"
   ]
  },
  {
   "cell_type": "code",
   "execution_count": 39,
   "metadata": {},
   "outputs": [
    {
     "name": "stdout",
     "output_type": "stream",
     "text": [
      "\n",
      "================================================================================\n",
      "ОСНОВИ ФУНКЦІЙ\n",
      "================================================================================\n"
     ]
    }
   ],
   "source": [
    "print(\"\\n\" + \"=\" * 80)\n",
    "print(\"ОСНОВИ ФУНКЦІЙ\")\n",
    "print(\"=\" * 80)\n"
   ]
  },
  {
   "cell_type": "code",
   "execution_count": 40,
   "metadata": {},
   "outputs": [],
   "source": [
    "\n",
    "# Найпростіша функція\n",
    "def say_hello():\n",
    "    \"\"\"Виводить привітання\"\"\"\n",
    "    print(\"Привіт!\")\n"
   ]
  },
  {
   "cell_type": "code",
   "execution_count": 41,
   "metadata": {},
   "outputs": [
    {
     "name": "stdout",
     "output_type": "stream",
     "text": [
      "Привіт!\n",
      "Привіт!\n"
     ]
    }
   ],
   "source": [
    "\n",
    "say_hello()\n",
    "say_hello()  # Можна викликати багато разів\n"
   ]
  },
  {
   "cell_type": "code",
   "execution_count": 42,
   "metadata": {},
   "outputs": [
    {
     "name": "stdout",
     "output_type": "stream",
     "text": [
      "Привіт, Олександр!\n",
      "Привіт, Марія!\n"
     ]
    }
   ],
   "source": [
    "\n",
    "# Функція з параметром\n",
    "def greet(name):\n",
    "    \"\"\"\n",
    "    Вітає користувача за ім'ям\n",
    "    \n",
    "    Args:\n",
    "        name (str): Ім'я користувача\n",
    "    \"\"\"\n",
    "    print(f\"Привіт, {name}!\")\n",
    "\n",
    "greet(\"Олександр\")\n",
    "greet(\"Марія\")\n"
   ]
  },
  {
   "cell_type": "code",
   "execution_count": 43,
   "metadata": {},
   "outputs": [
    {
     "name": "stdout",
     "output_type": "stream",
     "text": [
      "Доброго ранку, Іван!\n",
      "Доброго вечора, Світлана!\n"
     ]
    }
   ],
   "source": [
    "\n",
    "# Функція з кількома параметрами\n",
    "def greet_with_time(name, time_of_day):\n",
    "    \"\"\"Вітає з урахуванням часу доби\"\"\"\n",
    "    print(f\"Доброго {time_of_day}, {name}!\")\n",
    "\n",
    "\n",
    "n = \"Іван\"\n",
    "t = \"ранку\"\n",
    "greet_with_time(name=n, time_of_day=t)\n",
    "greet_with_time(\"Світлана\", \"вечора\")\n"
   ]
  },
  {
   "cell_type": "markdown",
   "metadata": {},
   "source": [
    " ## 2.2 Повернення значень (return)\n",
    "\n",
    "\n",
    "\n",
    " Функції можуть не тільки виконувати дії, але й **повертати результат** за допомогою `return`."
   ]
  },
  {
   "cell_type": "code",
   "execution_count": 44,
   "metadata": {},
   "outputs": [
    {
     "name": "stdout",
     "output_type": "stream",
     "text": [
      "\n",
      "================================================================================\n",
      "ПОВЕРНЕННЯ ЗНАЧЕНЬ\n",
      "================================================================================\n",
      "5 + 3 = 8\n",
      "(10+20) + (5+15) = 50\n",
      "|5| = 5\n",
      "|-7| = 7\n"
     ]
    }
   ],
   "source": [
    "print(\"\\n\" + \"=\" * 80)\n",
    "print(\"ПОВЕРНЕННЯ ЗНАЧЕНЬ\")\n",
    "print(\"=\" * 80)\n",
    "\n",
    "# Функція, що повертає значення\n",
    "def add(a, b):\n",
    "    \"\"\"Додає два числа\"\"\"\n",
    "    return a + b\n",
    "\n",
    "# Використання результату\n",
    "result = add(5, 3)\n",
    "print(f\"5 + 3 = {result}\")\n",
    "\n",
    "# Можна використовувати у виразах\n",
    "total = add(10, 20) + add(5, 15)\n",
    "print(f\"(10+20) + (5+15) = {total}\")\n",
    "\n",
    "# Функція з множинними return\n",
    "def absolute_value(x):\n",
    "    \"\"\"Повертає абсолютне значення числа\"\"\"\n",
    "    if x >= 0:\n",
    "        return x\n",
    "    else:\n",
    "        return -x\n",
    "\n",
    "print(f\"|5| = {absolute_value(5)}\")\n",
    "print(f\"|-7| = {absolute_value(-7)}\")\n"
   ]
  },
  {
   "cell_type": "markdown",
   "metadata": {},
   "source": [
    " ### Повернення декількох значень\n",
    "\n",
    "\n",
    "\n",
    " Python дозволяє повертати кілька значень одночасно (насправді це кортеж)."
   ]
  },
  {
   "cell_type": "code",
   "execution_count": 45,
   "metadata": {},
   "outputs": [
    {
     "name": "stdout",
     "output_type": "stream",
     "text": [
      "17 ÷ 5 = 3 (остача 2)\n",
      "23 ÷ 7 = (3, 2)\n"
     ]
    }
   ],
   "source": [
    "def divide_with_remainder(a, b):\n",
    "    \"\"\"\n",
    "    Ділить числа з остачею\n",
    "    \n",
    "    Args:\n",
    "        a: Ділене\n",
    "        b: Дільник\n",
    "    \n",
    "    Returns:\n",
    "        tuple: (частка, остача)\n",
    "    \"\"\"\n",
    "    quotient = a // b\n",
    "    remainder = a % b\n",
    "    return quotient, remainder\n",
    "\n",
    "# Розпакування результату\n",
    "q, r = divide_with_remainder(17, 5)\n",
    "print(f\"17 ÷ 5 = {q} (остача {r})\")\n",
    "\n",
    "# Або як кортеж\n",
    "result = divide_with_remainder(23, 7)\n",
    "print(f\"23 ÷ 7 = {result}\")\n"
   ]
  },
  {
   "cell_type": "markdown",
   "metadata": {},
   "source": [
    " ## 2.3 Параметри за замовчуванням\n",
    "\n",
    "\n",
    "\n",
    " Параметри можуть мати значення за замовчуванням. Це робить функції більш гнучкими."
   ]
  },
  {
   "cell_type": "code",
   "execution_count": 46,
   "metadata": {},
   "outputs": [
    {
     "name": "stdout",
     "output_type": "stream",
     "text": [
      "\n",
      "================================================================================\n",
      "ПАРАМЕТРИ ЗА ЗАМОВЧУВАННЯМ\n",
      "================================================================================\n",
      "5^2 = 25\n",
      "5^3 = 125\n",
      "2^10 = 1024\n",
      "Привіт, Андрій!\n",
      "Вітаю, Марія!\n",
      "Доброго дня, Іван.\n"
     ]
    }
   ],
   "source": [
    "print(\"\\n\" + \"=\" * 80)\n",
    "print(\"ПАРАМЕТРИ ЗА ЗАМОВЧУВАННЯМ\")\n",
    "print(\"=\" * 80)\n",
    "\n",
    "def power(base,  exponent=2):\n",
    "    \"\"\"\n",
    "    Піднесення до степеня\n",
    "    \n",
    "    Args:\n",
    "        base: Основа\n",
    "        exponent: Показник степеня (за замовчуванням 2)\n",
    "    \"\"\"\n",
    "    return base ** exponent\n",
    "\n",
    "# Використання значення за замовчуванням\n",
    "print(f\"5^2 = {power(5)}\")\n",
    "\n",
    "# Вказуємо свій показник\n",
    "print(f\"5^3 = {power(5, 3)}\")\n",
    "print(f\"2^10 = {power(2, 10)}\")\n",
    "\n",
    "# Функція для привітання\n",
    "def greet_person(name, greeting=\"Привіт\", punctuation=\"!\"):\n",
    "    \"\"\"Гнучке привітання\"\"\"\n",
    "    return f\"{greeting}, {name}{punctuation}\"\n",
    "\n",
    "print(greet_person(\"Андрій\"))\n",
    "print(greet_person(\"Марія\", \"Вітаю\"))\n",
    "print(greet_person(\"Іван\", \"Доброго дня\", \".\"))\n"
   ]
  },
  {
   "cell_type": "markdown",
   "metadata": {},
   "source": [
    " ## 2.4 Іменовані аргументи (keyword arguments)\n",
    "\n",
    "\n",
    "\n",
    " При виклику функції можна вказувати назви параметрів. Це покращує читабельність!"
   ]
  },
  {
   "cell_type": "code",
   "execution_count": 47,
   "metadata": {},
   "outputs": [
    {
     "name": "stdout",
     "output_type": "stream",
     "text": [
      "\n",
      "================================================================================\n",
      "ІМЕНОВАНІ АРГУМЕНТИ\n",
      "================================================================================\n",
      "{'name': 'Олександр', 'age': 28, 'city': 'Київ', 'occupation': 'Developer'}\n",
      "{'name': 'Марія', 'age': 25, 'city': 'Львів', 'occupation': 'Designer'}\n",
      "{'name': 'Іван', 'age': 30, 'city': 'Одеса', 'occupation': 'Manager'}\n"
     ]
    }
   ],
   "source": [
    "print(\"\\n\" + \"=\" * 80)\n",
    "print(\"ІМЕНОВАНІ АРГУМЕНТИ\")\n",
    "print(\"=\" * 80)\n",
    "\n",
    "def create_profile(name, age, city, occupation):\n",
    "    \"\"\"Створює профіль користувача\"\"\"\n",
    "    return {\n",
    "        'name': name,\n",
    "        'age': age,\n",
    "        'city': city,\n",
    "        'occupation': occupation\n",
    "    }\n",
    "\n",
    "# Позиційні аргументи (не дуже читабельно)\n",
    "profile1 = create_profile(\"Олександр\", 28, \"Київ\", \"Developer\")\n",
    "print(profile1)\n",
    "\n",
    "# Іменовані аргументи (набагато зрозуміліше!)\n",
    "profile2 = create_profile(\n",
    "    name=\"Марія\",\n",
    "    age=25,\n",
    "    city=\"Львів\",\n",
    "    occupation=\"Designer\"\n",
    ")\n",
    "print(profile2)\n",
    "\n",
    "# Можна змінювати порядок\n",
    "profile3 = create_profile(\n",
    "    age=30,\n",
    "    name=\"Іван\",\n",
    "    occupation=\"Manager\",\n",
    "    city=\"Одеса\"\n",
    ")\n",
    "print(profile3)\n"
   ]
  },
  {
   "cell_type": "markdown",
   "metadata": {},
   "source": [
    " ## 2.5 *args та **kwargs - Змінна кількість аргументів\n",
    "\n",
    "\n",
    "\n",
    " - `*args` - дозволяє передавати довільну кількість позиційних аргументів\n",
    "\n",
    " - `**kwargs` - дозволяє передавати довільну кількість іменованих аргументів"
   ]
  },
  {
   "cell_type": "code",
   "execution_count": 48,
   "metadata": {},
   "outputs": [
    {
     "name": "stdout",
     "output_type": "stream",
     "text": [
      "\n",
      "================================================================================\n",
      "*args ТА **kwargs\n",
      "================================================================================\n",
      "sum_all(1, 2, 3) = 6\n",
      "sum_all(1, 2, 3, 4, 5) = 15\n",
      "sum_all(10, 20) = 30\n"
     ]
    }
   ],
   "source": [
    "print(\"\\n\" + \"=\" * 80)\n",
    "print(\"*args ТА **kwargs\")\n",
    "print(\"=\" * 80)\n",
    "\n",
    "# *args - змінна кількість позиційних аргументів\n",
    "def sum_all(*args):\n",
    "    \"\"\"Сума всіх переданих чисел\"\"\"\n",
    "    return sum(args)\n",
    "\n",
    "print(f\"sum_all(1, 2, 3) = {sum_all(1, 2, 3)}\")\n",
    "print(f\"sum_all(1, 2, 3, 4, 5) = {sum_all(1, 2, 3, 4, 5)}\")\n",
    "print(f\"sum_all(10, 20) = {sum_all(10, 20)}\")\n"
   ]
  },
  {
   "cell_type": "code",
   "execution_count": 49,
   "metadata": {},
   "outputs": [
    {
     "name": "stdout",
     "output_type": "stream",
     "text": [
      "\n",
      "Інформація про користувача:\n",
      "  name: Олександр\n",
      "  age: 28\n",
      "  city: Київ\n",
      "  job: Developer\n",
      "\n",
      "Інформація про продукт:\n",
      "  title: Ноутбук\n",
      "  price: 25000\n",
      "  brand: Dell\n",
      "  color: Сірий\n"
     ]
    }
   ],
   "source": [
    "\n",
    "# **kwargs - змінна кількість іменованих аргументів\n",
    "def print_info(**kwargs):\n",
    "    \"\"\"Виводить інформацію у вигляді ключ: значення\"\"\"\n",
    "    for key, value in kwargs.items():\n",
    "        print(f\"  {key}: {value}\")\n",
    "\n",
    "print(\"\\nІнформація про користувача:\")\n",
    "print_info(name=\"Олександр\", age=28, city=\"Київ\", job=\"Developer\")\n",
    "\n",
    "print(\"\\nІнформація про продукт:\")\n",
    "print_info(title=\"Ноутбук\", price=25000, brand=\"Dell\", color=\"Сірий\")\n"
   ]
  },
  {
   "cell_type": "code",
   "execution_count": 50,
   "metadata": {},
   "outputs": [
    {
     "name": "stdout",
     "output_type": "stream",
     "text": [
      "\n",
      "Користувач: Марія\n",
      "Хобі: Читання, Подорожі, Фотографія\n",
      "Додаткова інформація:\n",
      "  age: 25\n",
      "  city: Львів\n",
      "  occupation: Дизайнер\n"
     ]
    }
   ],
   "source": [
    "\n",
    "# Комбінація всього\n",
    "def create_user(name, *hobbies, **details):\n",
    "    \"\"\"Створює користувача з хобі та додатковою інфою\"\"\"\n",
    "    print(f\"\\nКористувач: {name}\")\n",
    "    print(f\"Хобі: {', '.join(hobbies)}\")\n",
    "    print(\"Додаткова інформація:\")\n",
    "    for key, value in details.items():\n",
    "        print(f\"  {key}: {value}\")\n",
    "\n",
    "create_user(\n",
    "    \"Марія\",\n",
    "    \"Читання\", \"Подорожі\", \"Фотографія\",\n",
    "    age=25,\n",
    "    city=\"Львів\",\n",
    "    occupation=\"Дизайнер\"\n",
    ")\n"
   ]
  },
  {
   "cell_type": "markdown",
   "metadata": {},
   "source": [
    " ## 2.6 Лямбда-функції (анонімні функції)\n",
    "\n",
    "\n",
    "\n",
    " **Лямбда-функції** - це маленькі анонімні функції, які можна створити в один рядок.\n",
    "\n",
    "\n",
    "\n",
    " Синтаксис: `lambda arguments: expression`\n",
    "\n",
    "\n",
    "\n",
    " Використовуйте лямбда-функції для:\n",
    "\n",
    " - Простих операцій\n",
    "\n",
    " - Коротких callback-функцій\n",
    "\n",
    " - Сортування та фільтрації"
   ]
  },
  {
   "cell_type": "code",
   "execution_count": 51,
   "metadata": {},
   "outputs": [
    {
     "name": "stdout",
     "output_type": "stream",
     "text": [
      "\n",
      "================================================================================\n",
      "ЛЯМБДА-ФУНКЦІЇ\n",
      "================================================================================\n"
     ]
    }
   ],
   "source": [
    "print(\"\\n\" + \"=\" * 80)\n",
    "print(\"ЛЯМБДА-ФУНКЦІЇ\")\n",
    "print(\"=\" * 80)\n",
    "\n",
    "# Звичайна функція\n",
    "def square(x):\n",
    "    return x ** 2\n",
    "\n",
    "# Те саме через лямбду\n",
    "square_lambda = lambda x: x ** 2\n"
   ]
  },
  {
   "cell_type": "code",
   "execution_count": 52,
   "metadata": {},
   "outputs": [
    {
     "name": "stdout",
     "output_type": "stream",
     "text": [
      "square(5) = 25\n",
      "square_lambda(5) = 25\n"
     ]
    }
   ],
   "source": [
    "\n",
    "\n",
    "print(f\"square(5) = {square(5)}\")\n",
    "print(f\"square_lambda(5) = {square_lambda(5)}\")\n"
   ]
  },
  {
   "cell_type": "code",
   "execution_count": null,
   "metadata": {},
   "outputs": [],
   "source": []
  },
  {
   "cell_type": "code",
   "execution_count": 53,
   "metadata": {},
   "outputs": [
    {
     "name": "stdout",
     "output_type": "stream",
     "text": [
      "\n",
      "10 + 5 = 15\n",
      "10 * 5 = 50\n",
      "\n",
      "Квадрати: [1, 2, 3, 4, 5] -> [1, 4, 9, 16, 25]\n",
      "Парні: [2, 4]\n",
      "\n",
      "Студенти за оцінкою (від вищої до нижчої):\n",
      "  Світлана: 95\n",
      "  Марія: 92\n",
      "  Олександр: 85\n",
      "  Іван: 78\n"
     ]
    }
   ],
   "source": [
    "\n",
    "# Лямбда з кількома параметрами\n",
    "add = lambda a, b: a + b\n",
    "multiply = lambda a, b: a * b\n",
    "\n",
    "print(f\"\\n10 + 5 = {add(10, 5)}\")\n",
    "print(f\"10 * 5 = {multiply(10, 5)}\")\n",
    "\n",
    "# Використання з вбудованими функціями\n",
    "numbers = [1, 2, 3, 4, 5]\n",
    "\n",
    "# map() - застосувати функцію до кожного елемента\n",
    "squared = list(map(lambda x: x ** 2, numbers))\n",
    "print(f\"\\nКвадрати: {numbers} -> {squared}\")\n",
    "\n",
    "# filter() - відфільтрувати елементи\n",
    "evens = list(filter(lambda x: x % 2 == 0, numbers))\n",
    "print(f\"Парні: {evens}\")\n",
    "\n",
    "# sorted() з лямбдою для сортування\n",
    "students = [\n",
    "    {'name': 'Олександр', 'grade': 85},\n",
    "    {'name': 'Марія', 'grade': 92},\n",
    "    {'name': 'Іван', 'grade': 78},\n",
    "    {'name': 'Світлана', 'grade': 95}\n",
    "]\n",
    "\n",
    "sorted_students = sorted(students, key=lambda s: s['grade'], reverse=True)\n",
    "print(\"\\nСтуденти за оцінкою (від вищої до нижчої):\")\n",
    "for student in sorted_students:\n",
    "    print(f\"  {student['name']}: {student['grade']}\")\n"
   ]
  },
  {
   "cell_type": "markdown",
   "metadata": {},
   "source": [
    " ## 2.7 Області видимості (Scope)\n",
    "\n",
    "\n",
    "\n",
    " Python має різні області видимості змінних:\n",
    "\n",
    "\n",
    "\n",
    " 1. **Local** - всередині функції\n",
    "\n",
    " 2. **Enclosing** - у зовнішній функції (для вкладених функцій)\n",
    "\n",
    " 3. **Global** - на рівні модуля\n",
    "\n",
    " 4. **Built-in** - вбудовані імена Python"
   ]
  },
  {
   "cell_type": "code",
   "execution_count": 54,
   "metadata": {},
   "outputs": [
    {
     "name": "stdout",
     "output_type": "stream",
     "text": [
      "\n",
      "================================================================================\n",
      "ОБЛАСТІ ВИДИМОСТІ\n",
      "================================================================================\n",
      "  Локальна: Я локальна\n",
      "  Enclosing: Я enclosing\n",
      "  Глобальна: Я глобальна\n",
      "  У зовнішній функції: Я enclosing\n",
      "Глобальна змінна: Я глобальна\n",
      "\n",
      "Лічильник до: 0\n",
      "Лічильник після: 1\n",
      "Лічильник після: 2\n"
     ]
    }
   ],
   "source": [
    "print(\"\\n\" + \"=\" * 80)\n",
    "print(\"ОБЛАСТІ ВИДИМОСТІ\")\n",
    "print(\"=\" * 80)\n",
    "\n",
    "# Глобальна змінна\n",
    "global_var = \"Я глобальна\"\n",
    "\n",
    "def outer_function():\n",
    "    # Змінна зовнішньої функції (enclosing)\n",
    "    enclosing_var = \"Я enclosing\"\n",
    "    \n",
    "    def inner_function():\n",
    "        # Локальна змінна\n",
    "        local_var = \"Я локальна\"\n",
    "        \n",
    "        print(f\"  Локальна: {local_var}\")\n",
    "        print(f\"  Enclosing: {enclosing_var}\")\n",
    "        print(f\"  Глобальна: {global_var}\")\n",
    "    \n",
    "    inner_function()\n",
    "    print(f\"  У зовнішній функції: {enclosing_var}\")\n",
    "    # print(local_var)  # ❌ Помилка!\n",
    "\n",
    "outer_function()\n",
    "print(f\"Глобальна змінна: {global_var}\")\n",
    "\n",
    "# Модифікація глобальної змінної\n",
    "counter = 0\n",
    "\n",
    "def increment_bad():\n",
    "    \"\"\"❌ Не спрацює - створить локальну змінну\"\"\"\n",
    "    counter = counter + 1  # UnboundLocalError!\n",
    "\n",
    "def increment_good():\n",
    "    \"\"\"✅ Правильно - використовуємо global\"\"\"\n",
    "    global counter\n",
    "    counter += 1\n",
    "\n",
    "print(f\"\\nЛічильник до: {counter}\")\n",
    "increment_good()\n",
    "print(f\"Лічильник після: {counter}\")\n",
    "increment_good()\n",
    "print(f\"Лічильник після: {counter}\")\n"
   ]
  },
  {
   "cell_type": "markdown",
   "metadata": {},
   "source": [
    " ## 2.8 Вбудовані функції Python\n",
    "\n",
    "\n",
    "\n",
    " Python має багато вбудованих функцій. Використовуйте їх замість власних реалізацій!"
   ]
  },
  {
   "cell_type": "code",
   "execution_count": 55,
   "metadata": {},
   "outputs": [
    {
     "name": "stdout",
     "output_type": "stream",
     "text": [
      "\n",
      "================================================================================\n",
      "ВБУДОВАНІ ФУНКЦІЇ PYTHON\n",
      "================================================================================\n",
      "Математичні функції:\n",
      "  sum: 326\n",
      "  min: 12\n",
      "  max: 89\n",
      "  abs(-10): 10\n",
      "  pow(2, 10): 1024\n",
      "  round(3.14159, 2): 3.14\n",
      "\n",
      "Робота з колекціями:\n",
      "  len: 7\n",
      "  sorted: [12, 23, 34, 45, 56, 67, 89]\n",
      "  reversed: [56, 34, 89, 67, 12, 45, 23]\n",
      "\n",
      "Перевірка типів:\n",
      "  isinstance(5, int): True\n",
      "  isinstance('text', str): True\n",
      "  type(3.14): <class 'float'>\n",
      "\n",
      "Робота з ітераторами:\n",
      "  all([True, True, True]): True\n",
      "  all([True, False, True]): False\n",
      "  any([False, False, True]): True\n",
      "\n",
      "enumerate:\n",
      "  1. яблуко\n",
      "  2. банан\n",
      "  3. апельсин\n",
      "\n",
      "zip:\n",
      "  Олександр: 28 років\n",
      "  Марія: 25 років\n",
      "  Іван: 32 років\n"
     ]
    }
   ],
   "source": [
    "print(\"\\n\" + \"=\" * 80)\n",
    "print(\"ВБУДОВАНІ ФУНКЦІЇ PYTHON\")\n",
    "print(\"=\" * 80)\n",
    "\n",
    "numbers = [23, 45, 12, 67, 89, 34, 56]\n",
    "\n",
    "# Математичні функції\n",
    "print(\"Математичні функції:\")\n",
    "print(f\"  sum: {sum(numbers)}\")\n",
    "print(f\"  min: {min(numbers)}\")\n",
    "print(f\"  max: {max(numbers)}\")\n",
    "print(f\"  abs(-10): {abs(-10)}\")\n",
    "print(f\"  pow(2, 10): {pow(2, 10)}\")\n",
    "print(f\"  round(3.14159, 2): {round(3.14159, 2)}\")\n",
    "\n",
    "# Робота з колекціями\n",
    "print(\"\\nРобота з колекціями:\")\n",
    "print(f\"  len: {len(numbers)}\")\n",
    "print(f\"  sorted: {sorted(numbers)}\")\n",
    "print(f\"  reversed: {list(reversed(numbers))}\")\n",
    "\n",
    "# Робота з типами\n",
    "print(\"\\nПеревірка типів:\")\n",
    "print(f\"  isinstance(5, int): {isinstance(5, int)}\")\n",
    "print(f\"  isinstance('text', str): {isinstance('text', str)}\")\n",
    "print(f\"  type(3.14): {type(3.14)}\")\n",
    "\n",
    "# Робота з рядками та ітераторами\n",
    "print(\"\\nРобота з ітераторами:\")\n",
    "print(f\"  all([True, True, True]): {all([True, True, True])}\")\n",
    "print(f\"  all([True, False, True]): {all([True, False, True])}\")\n",
    "print(f\"  any([False, False, True]): {any([False, False, True])}\")\n",
    "\n",
    "# enumerate - нумерація елементів\n",
    "print(\"\\nenumerate:\")\n",
    "fruits = ['яблуко', 'банан', 'апельсин']\n",
    "for index, fruit in enumerate(fruits, start=1):\n",
    "    print(f\"  {index}. {fruit}\")\n",
    "\n",
    "# zip - об'єднання списків\n",
    "print(\"\\nzip:\")\n",
    "names = ['Олександр', 'Марія', 'Іван']\n",
    "ages = [28, 25, 32]\n",
    "for name, age in zip(names, ages):\n",
    "    print(f\"  {name}: {age} років\")\n"
   ]
  },
  {
   "cell_type": "markdown",
   "metadata": {},
   "source": [
    " ## 2.9 Декоратори - Розширення функціональності\n",
    "\n",
    "\n",
    "\n",
    " **Декоратори** дозволяють модифікувати поведінку функцій без зміни їх коду.\n",
    "\n",
    "\n",
    "\n",
    " Типові використання:\n",
    "\n",
    " - Логування\n",
    "\n",
    " - Вимірювання часу виконання\n",
    "\n",
    " - Перевірка прав доступу\n",
    "\n",
    " - Кешування результатів"
   ]
  },
  {
   "cell_type": "code",
   "execution_count": 56,
   "metadata": {},
   "outputs": [
    {
     "name": "stdout",
     "output_type": "stream",
     "text": [
      "\n",
      "================================================================================\n",
      "ДЕКОРАТОРИ\n",
      "================================================================================\n",
      "📞 Виклик функції: calculate_sum\n",
      "✅ Функція calculate_sum завершена\n",
      "Результат: 30\n",
      "\n",
      "⏱️  slow_function виконувалась 0.102181 секунд\n",
      "Результат: 4999950000\n",
      "\n",
      "📞 Виклик функції: complex_calculation\n",
      "⏱️  complex_calculation виконувалась 0.000583 секунд\n",
      "✅ Функція complex_calculation завершена\n",
      "Результат: 333283335000\n"
     ]
    }
   ],
   "source": [
    "import time\n",
    "import functools\n",
    "\n",
    "print(\"\\n\" + \"=\" * 80)\n",
    "print(\"ДЕКОРАТОРИ\")\n",
    "print(\"=\" * 80)\n",
    "\n",
    "# Простий декоратор для логування\n",
    "def log_function_call(func):\n",
    "    \"\"\"Декоратор для логування викликів функції\"\"\"\n",
    "    @functools.wraps(func)\n",
    "    def wrapper(*args, **kwargs):\n",
    "        print(f\"📞 Виклик функції: {func.__name__}\")\n",
    "        result = func(*args, **kwargs)\n",
    "        print(f\"✅ Функція {func.__name__} завершена\")\n",
    "        return result\n",
    "    return wrapper\n",
    "\n",
    "@log_function_call\n",
    "def calculate_sum(a, b):\n",
    "    \"\"\"Додає два числа\"\"\"\n",
    "    return a + b\n",
    "\n",
    "result = calculate_sum(10, 20)\n",
    "print(f\"Результат: {result}\\n\")\n",
    "\n",
    "# Декоратор для вимірювання часу\n",
    "def measure_time(func):\n",
    "    \"\"\"Вимірює час виконання функції\"\"\"\n",
    "    @functools.wraps(func)\n",
    "    def wrapper(*args, **kwargs):\n",
    "        start = time.time()\n",
    "        result = func(*args, **kwargs)\n",
    "        end = time.time()\n",
    "        print(f\"⏱️  {func.__name__} виконувалась {end - start:.6f} секунд\")\n",
    "        return result\n",
    "    return wrapper\n",
    "\n",
    "@measure_time\n",
    "def slow_function():\n",
    "    \"\"\"Повільна функція для демонстрації\"\"\"\n",
    "    time.sleep(0.1)  # Імітація роботи\n",
    "    return sum(range(100000))\n",
    "\n",
    "result = slow_function()\n",
    "print(f\"Результат: {result}\\n\")\n",
    "\n",
    "# Комбінація декораторів\n",
    "@log_function_call\n",
    "@measure_time\n",
    "def complex_calculation(n):\n",
    "    \"\"\"Складне обчислення\"\"\"\n",
    "    return sum(i ** 2 for i in range(n))\n",
    "\n",
    "result = complex_calculation(10000)\n",
    "print(f\"Результат: {result}\")\n"
   ]
  },
  {
   "cell_type": "markdown",
   "metadata": {},
   "source": [
    " ## 2.10 Документування функцій (Docstrings)\n",
    "\n",
    "\n",
    "\n",
    " **Docstring** - це рядок документації на початку функції. Він описує що робить функція, які приймає параметри та що повертає.\n",
    "\n",
    "\n",
    "\n",
    " ### Формати docstring:\n",
    "\n",
    " - **Google Style** (рекомендується)\n",
    "\n",
    " - NumPy Style\n",
    "\n",
    " - reStructuredText"
   ]
  },
  {
   "cell_type": "code",
   "execution_count": 57,
   "metadata": {},
   "outputs": [
    {
     "name": "stdout",
     "output_type": "stream",
     "text": [
      "\n",
      "================================================================================\n",
      "ДОКУМЕНТУВАННЯ ФУНКЦІЙ\n",
      "================================================================================\n",
      "BMI: 22.86\n",
      "\n",
      "Документація функції:\n",
      "\n",
      "    Обчислює індекс маси тіла (BMI).\n",
      "\n",
      "    BMI = вага (кг) / (зріст (м))²\n",
      "\n",
      "    Args:\n",
      "        weight (float): Вага в кілограмах\n",
      "        height (float): Зріст в метрах\n",
      "\n",
      "    Returns:\n",
      "        float: Індекс маси тіла\n",
      "\n",
      "    Raises:\n",
      "        ValueError: Якщо вага або зріст <= 0\n",
      "\n",
      "    Examples:\n",
      "        >>> calculate_bmi(70, 1.75)\n",
      "        22.86\n",
      "\n",
      "        >>> calculate_bmi(85, 1.80)\n",
      "        26.23\n",
      "    \n"
     ]
    }
   ],
   "source": [
    "print(\"\\n\" + \"=\" * 80)\n",
    "print(\"ДОКУМЕНТУВАННЯ ФУНКЦІЙ\")\n",
    "print(\"=\" * 80)\n",
    "\n",
    "def calculate_bmi(weight, height):\n",
    "    \"\"\"\n",
    "    Обчислює індекс маси тіла (BMI).\n",
    "    \n",
    "    BMI = вага (кг) / (зріст (м))²\n",
    "    \n",
    "    Args:\n",
    "        weight (float): Вага в кілограмах\n",
    "        height (float): Зріст в метрах\n",
    "    \n",
    "    Returns:\n",
    "        float: Індекс маси тіла\n",
    "    \n",
    "    Raises:\n",
    "        ValueError: Якщо вага або зріст <= 0\n",
    "    \n",
    "    Examples:\n",
    "        >>> calculate_bmi(70, 1.75)\n",
    "        22.86\n",
    "        \n",
    "        >>> calculate_bmi(85, 1.80)\n",
    "        26.23\n",
    "    \"\"\"\n",
    "    if weight <= 0 or height <= 0:\n",
    "        raise ValueError(\"Вага та зріст мають бути додатними числами\")\n",
    "    \n",
    "    return weight / (height ** 2)\n",
    "\n",
    "# Використання\n",
    "bmi = calculate_bmi(70, 1.75)\n",
    "print(f\"BMI: {bmi:.2f}\")\n",
    "\n",
    "# Перегляд документації\n",
    "print(\"\\nДокументація функції:\")\n",
    "print(calculate_bmi.__doc__)\n",
    "\n",
    "# Або через help()\n",
    "# help(calculate_bmi)\n"
   ]
  },
  {
   "cell_type": "markdown",
   "metadata": {},
   "source": [
    " ## 2.11 Практичні приклади з використанням бібліотек\n",
    "\n",
    "\n",
    "\n",
    " Розглянемо реальні приклади, де функції працюють з даними з файлів та бібліотеками."
   ]
  },
  {
   "cell_type": "code",
   "execution_count": 66,
   "metadata": {},
   "outputs": [
    {
     "name": "stdout",
     "output_type": "stream",
     "text": [
      "\n",
      "================================================================================\n",
      "ПРАКТИЧНІ ПРИКЛАДИ\n",
      "================================================================================\n",
      "\n",
      "📊 Статистика співробітників:\n",
      "Всього співробітників: 4\n",
      "Середній вік: 28.5 років\n",
      "Середня зарплата: 51250.00 грн\n",
      "Міста: Київ, Львів, Одеса\n",
      "Середня зарплата по містах:\n",
      "  Київ: 51000.00 грн\n",
      "  Львів: 48000.00 грн\n",
      "  Одеса: 55000.00 грн\n"
     ]
    }
   ],
   "source": [
    "print(\"\\n\" + \"=\" * 80)\n",
    "print(\"ПРАКТИЧНІ ПРИКЛАДИ\")\n",
    "print(\"=\" * 80)\n",
    "\n",
    "# Приклад 1: Аналіз даних з CSV\n",
    "def analyze_employees(filename):\n",
    "    \"\"\"\n",
    "    Аналізує дані про співробітників з CSV файлу\n",
    "    \n",
    "    Args:\n",
    "        filename (str): Шлях до CSV файлу\n",
    "    \n",
    "    Returns:\n",
    "        dict: Статистика по співробітникам\n",
    "    \"\"\"\n",
    "    df = pd.read_csv(filename)\n",
    "    \n",
    "    stats = {\n",
    "        'total_employees': len(df),\n",
    "        'average_age': df['Вік'].mean(),\n",
    "        'average_salary': df['Зарплата'].mean(),\n",
    "        'cities': df['Місто'].unique().tolist(),\n",
    "        'salary_by_city': df.groupby('Місто')['Зарплата'].mean().to_dict()\n",
    "    }\n",
    "    \n",
    "    return stats\n",
    "\n",
    "# Використання\n",
    "stats = analyze_employees(file_csv_path)\n",
    "print(\"\\n📊 Статистика співробітників:\")\n",
    "print(f\"Всього співробітників: {stats['total_employees']}\")\n",
    "print(f\"Середній вік: {stats['average_age']:.1f} років\")\n",
    "print(f\"Середня зарплата: {stats['average_salary']:.2f} грн\")\n",
    "print(f\"Міста: {', '.join(stats['cities'])}\")\n",
    "print(\"Середня зарплата по містах:\")\n",
    "for city, salary in stats['salary_by_city'].items():\n",
    "    print(f\"  {city}: {salary:.2f} грн\")\n"
   ]
  },
  {
   "cell_type": "markdown",
   "metadata": {},
   "source": [
    " ### Приклад 2: Робота з датами"
   ]
  },
  {
   "cell_type": "code",
   "execution_count": 59,
   "metadata": {},
   "outputs": [
    {
     "name": "stdout",
     "output_type": "stream",
     "text": [
      "\n",
      "Дата народження: 1995-06-15\n",
      "Вік: 30 років\n",
      "Днів до дня народження: 232\n"
     ]
    }
   ],
   "source": [
    "from datetime import datetime, timedelta\n",
    "\n",
    "def calculate_age(birth_date_str):\n",
    "    \"\"\"\n",
    "    Обчислює вік на основі дати народження\n",
    "    \n",
    "    Args:\n",
    "        birth_date_str (str): Дата народження у форматі 'YYYY-MM-DD'\n",
    "    \n",
    "    Returns:\n",
    "        int: Вік у роках\n",
    "    \"\"\"\n",
    "    birth_date = datetime.strptime(birth_date_str, '%Y-%m-%d')\n",
    "    today = datetime.now()\n",
    "    age = today.year - birth_date.year\n",
    "    \n",
    "    # Коригуємо, якщо день народження ще не настав цього року\n",
    "    if today.month < birth_date.month or \\\n",
    "       (today.month == birth_date.month and today.day < birth_date.day):\n",
    "        age -= 1\n",
    "    \n",
    "    return age\n",
    "\n",
    "def days_until_birthday(birth_date_str):\n",
    "    \"\"\"Обчислює кількість днів до наступного дня народження\"\"\"\n",
    "    birth_date = datetime.strptime(birth_date_str, '%Y-%m-%d')\n",
    "    today = datetime.now()\n",
    "    \n",
    "    # Наступний день народження\n",
    "    next_birthday = birth_date.replace(year=today.year)\n",
    "    if next_birthday < today:\n",
    "        next_birthday = next_birthday.replace(year=today.year + 1)\n",
    "    \n",
    "    days = (next_birthday - today).days\n",
    "    return days\n",
    "\n",
    "# Тестування\n",
    "birth_date = \"1995-06-15\"\n",
    "print(f\"\\nДата народження: {birth_date}\")\n",
    "print(f\"Вік: {calculate_age(birth_date)} років\")\n",
    "print(f\"Днів до дня народження: {days_until_birthday(birth_date)}\")\n"
   ]
  },
  {
   "cell_type": "markdown",
   "metadata": {},
   "source": [
    " ### Приклад 3: Обробка текстових даних"
   ]
  },
  {
   "cell_type": "code",
   "execution_count": 60,
   "metadata": {},
   "outputs": [
    {
     "name": "stdout",
     "output_type": "stream",
     "text": [
      "\n",
      "📝 Аналіз тексту:\n",
      "Всього символів: 212\n",
      "Всього слів: 27\n",
      "Унікальних слів: 20\n",
      "Середня довжина слова: 6.63\n",
      "\n",
      "Найпопулярніші слова:\n",
      "  python: 4 раз(ів)\n",
      "  програмування: 3 раз(ів)\n",
      "  це: 2 раз(ів)\n",
      "  та: 2 раз(ів)\n",
      "  потужна: 1 раз(ів)\n"
     ]
    }
   ],
   "source": [
    "import re\n",
    "from collections import Counter\n",
    "\n",
    "def analyze_text_file(filename):\n",
    "    \"\"\"\n",
    "    Аналізує текстовий файл\n",
    "    \n",
    "    Args:\n",
    "        filename (str): Шлях до текстового файлу\n",
    "    \n",
    "    Returns:\n",
    "        dict: Статистика по тексту\n",
    "    \"\"\"\n",
    "    with open(filename, 'r', encoding='utf-8') as f:\n",
    "        text = f.read()\n",
    "    \n",
    "    # Видаляємо пунктуацію і переводимо в нижній регістр\n",
    "    words = re.findall(r'\\b[а-яіїєґa-z]+\\b', text.lower())\n",
    "    \n",
    "    stats = {\n",
    "        'total_characters': len(text),\n",
    "        'total_words': len(words),\n",
    "        'unique_words': len(set(words)),\n",
    "        'average_word_length': sum(len(word) for word in words) / len(words) if words else 0,\n",
    "        'most_common_words': Counter(words).most_common(5)\n",
    "    }\n",
    "    \n",
    "    return stats\n",
    "\n",
    "# Створюємо тестовий файл\n",
    "test_text = \"\"\"\n",
    "Python це потужна мова програмування.\n",
    "Python підтримує різні парадигми програмування.\n",
    "Програмування на Python це цікаво та корисно.\n",
    "Python використовується для веб-розробки, аналізу даних та машинного навчання.\n",
    "\"\"\"\n",
    "\n",
    "with open(f'{OUTPUT_DIR}/test_text.txt', 'w', encoding='utf-8') as f:\n",
    "    f.write(test_text)\n",
    "\n",
    "# Аналіз\n",
    "text_stats = analyze_text_file(f'{OUTPUT_DIR}/test_text.txt')\n",
    "print(\"\\n📝 Аналіз тексту:\")\n",
    "print(f\"Всього символів: {text_stats['total_characters']}\")\n",
    "print(f\"Всього слів: {text_stats['total_words']}\")\n",
    "print(f\"Унікальних слів: {text_stats['unique_words']}\")\n",
    "print(f\"Середня довжина слова: {text_stats['average_word_length']:.2f}\")\n",
    "print(\"\\nНайпопулярніші слова:\")\n",
    "for word, count in text_stats['most_common_words']:\n",
    "    print(f\"  {word}: {count} раз(ів)\")\n"
   ]
  },
  {
   "cell_type": "markdown",
   "metadata": {},
   "source": [
    " ### Приклад 4: Математичні обчислення з numpy"
   ]
  },
  {
   "cell_type": "code",
   "execution_count": 61,
   "metadata": {},
   "outputs": [
    {
     "name": "stdout",
     "output_type": "stream",
     "text": [
      "\n",
      "🔢 Статистичний аналіз:\n",
      "  mean: 47.20\n",
      "  median: 45.00\n",
      "  std: 24.00\n",
      "  min: 12.00\n",
      "  max: 89.00\n",
      "  percentile_25: 25.75\n",
      "  percentile_75: 64.25\n",
      "\n",
      "Оригінальні дані: [23, 45, 12, 67, 89, 34, 56, 78, 23, 45]\n",
      "Нормалізовані: [0.143, 0.429, 0.0, 0.714, 1.0, 0.286, 0.571, 0.857, 0.143, 0.429]\n"
     ]
    }
   ],
   "source": [
    "import numpy as np\n",
    "\n",
    "def calculate_statistics(data):\n",
    "    \"\"\"\n",
    "    Обчислює статистику для масиву даних\n",
    "    \n",
    "    Args:\n",
    "        data (list or np.array): Дані для аналізу\n",
    "    \n",
    "    Returns:\n",
    "        dict: Статистичні показники\n",
    "    \"\"\"\n",
    "    arr = np.array(data)\n",
    "    \n",
    "    return {\n",
    "        'mean': np.mean(arr),\n",
    "        'median': np.median(arr),\n",
    "        'std': np.std(arr),\n",
    "        'min': np.min(arr),\n",
    "        'max': np.max(arr),\n",
    "        'percentile_25': np.percentile(arr, 25),\n",
    "        'percentile_75': np.percentile(arr, 75)\n",
    "    }\n",
    "\n",
    "def normalize_data(data):\n",
    "    \"\"\"Нормалізує дані до діапазону [0, 1]\"\"\"\n",
    "    arr = np.array(data)\n",
    "    min_val = np.min(arr)\n",
    "    max_val = np.max(arr)\n",
    "    return (arr - min_val) / (max_val - min_val)\n",
    "\n",
    "# Тестування\n",
    "data = [23, 45, 12, 67, 89, 34, 56, 78, 23, 45]\n",
    "\n",
    "print(\"\\n🔢 Статистичний аналіз:\")\n",
    "stats = calculate_statistics(data)\n",
    "for key, value in stats.items():\n",
    "    print(f\"  {key}: {value:.2f}\")\n",
    "\n",
    "print(\"\\nОригінальні дані:\", data)\n",
    "print(\"Нормалізовані:\", normalize_data(data).round(3).tolist())\n"
   ]
  },
  {
   "cell_type": "markdown",
   "metadata": {},
   "source": [
    " ## 2.12 Рекурсивні функції\n",
    "\n",
    "\n",
    "\n",
    " **Рекурсія** - це коли функція викликає саму себе. Потужний інструмент для розв'язання певних задач.\n",
    "\n",
    "\n",
    "\n",
    " ### Коли використовувати рекурсію:\n",
    "\n",
    " - Робота з деревовидними структурами\n",
    "\n",
    " - Математичні послідовності (факторіал, Фібоначчі)\n",
    "\n",
    " - Обхід файлової системи\n",
    "\n",
    " - Алгоритми \"розділяй і володарюй\""
   ]
  },
  {
   "cell_type": "code",
   "execution_count": 67,
   "metadata": {},
   "outputs": [
    {
     "name": "stdout",
     "output_type": "stream",
     "text": [
      "\n",
      "================================================================================\n",
      "РЕКУРСИВНІ ФУНКЦІЇ\n",
      "================================================================================\n",
      "Факторіали:\n",
      "  0! = 1\n",
      "  1! = 1\n",
      "  2! = 2\n",
      "  3! = 6\n",
      "  4! = 24\n",
      "  5! = 120\n",
      "\n",
      "Числа Фібоначчі:\n",
      "  Перші 10: [0, 1, 1, 2, 3, 5, 8, 13, 21, 34]\n",
      "  50-те число Фібоначчі: 12586269025\n",
      "\n",
      "Сума цифр:\n",
      "  Сума цифр 123 = 6\n",
      "  Сума цифр 456 = 15\n",
      "  Сума цифр 7890 = 24\n"
     ]
    }
   ],
   "source": [
    "print(\"\\n\" + \"=\" * 80)\n",
    "print(\"РЕКУРСИВНІ ФУНКЦІЇ\")\n",
    "print(\"=\" * 80)\n",
    "\n",
    "# Приклад 1: Факторіал\n",
    "def factorial(n):\n",
    "    \"\"\"\n",
    "    Обчислює факторіал числа рекурсивно\n",
    "    \n",
    "    Args:\n",
    "        n (int): Невід'ємне ціле число\n",
    "    \n",
    "    Returns:\n",
    "        int: n! = n * (n-1) * (n-2) * ... * 1\n",
    "    \"\"\"\n",
    "    if n == 0 or n == 1:\n",
    "        return 1\n",
    "    return n * factorial(n - 1)\n",
    "\n",
    "print(\"Факторіали:\")\n",
    "for i in range(6):\n",
    "    print(f\"  {i}! = {factorial(i)}\")\n",
    "\n",
    "# Приклад 2: Числа Фібоначчі\n",
    "def fibonacci(n):\n",
    "    \"\"\"Обчислює n-те число Фібоначчі\"\"\"\n",
    "    if n <= 1:\n",
    "        return n\n",
    "    return fibonacci(n - 1) + fibonacci(n - 2)\n",
    "\n",
    "print(\"\\nЧисла Фібоначчі:\")\n",
    "fib_numbers = [fibonacci(i) for i in range(10)]\n",
    "print(f\"  Перші 10: {fib_numbers}\")\n",
    "\n",
    "# Оптимізована версія з мемоїзацією\n",
    "@functools.lru_cache(maxsize=None)\n",
    "def fibonacci_optimized(n):\n",
    "    \"\"\"Оптимізована версія Фібоначчі з кешуванням\"\"\"\n",
    "    if n <= 1:\n",
    "        return n\n",
    "    return fibonacci_optimized(n - 1) + fibonacci_optimized(n - 2)\n",
    "\n",
    "print(f\"  50-те число Фібоначчі: {fibonacci_optimized(50)}\")\n",
    "\n",
    "# Приклад 3: Сума цифр числа\n",
    "def sum_of_digits(n):\n",
    "    \"\"\"Рекурсивно обчислює суму цифр числа\"\"\"\n",
    "    if n < 10:\n",
    "        return n\n",
    "    return n % 10 + sum_of_digits(n // 10)\n",
    "\n",
    "print(\"\\nСума цифр:\")\n",
    "numbers_to_test = [123, 456, 7890]\n",
    "for num in numbers_to_test:\n",
    "    print(f\"  Сума цифр {num} = {sum_of_digits(num)}\")\n"
   ]
  },
  {
   "cell_type": "markdown",
   "metadata": {},
   "source": [
    " ## 2.13 Функції вищого порядку\n",
    "\n",
    "\n",
    "\n",
    " **Функції вищого порядку** - це функції, які:\n",
    "\n",
    " - Приймають інші функції як аргументи\n",
    "\n",
    " - Повертають функції як результат\n",
    "\n",
    "\n",
    "\n",
    " Приклади вбудованих функцій вищого порядку: `map()`, `filter()`, `reduce()`, `sorted()`"
   ]
  },
  {
   "cell_type": "code",
   "execution_count": 63,
   "metadata": {},
   "outputs": [
    {
     "name": "stdout",
     "output_type": "stream",
     "text": [
      "\n",
      "================================================================================\n",
      "ФУНКЦІЇ ВИЩОГО ПОРЯДКУ\n",
      "================================================================================\n",
      "map() - квадрати чисел:\n",
      "  [1, 2, 3, 4, 5, 6, 7, 8, 9, 10]\n",
      "  [1, 4, 9, 16, 25, 36, 49, 64, 81, 100]\n",
      "\n",
      "filter() - тільки парні:\n",
      "  [2, 4, 6, 8, 10]\n",
      "\n",
      "reduce() - добуток всіх чисел:\n",
      "  3628800\n",
      "\n",
      "apply_twice():\n",
      "  (5 + 1) + 1 = 7\n",
      "  (2 * 2) * 2 = 8\n",
      "\n",
      "Функція, що повертає функцію:\n",
      "  7 * 5 = 35\n",
      "  7 * 10 = 70\n"
     ]
    }
   ],
   "source": [
    "from functools import reduce\n",
    "\n",
    "print(\"\\n\" + \"=\" * 80)\n",
    "print(\"ФУНКЦІЇ ВИЩОГО ПОРЯДКУ\")\n",
    "print(\"=\" * 80)\n",
    "\n",
    "numbers = [1, 2, 3, 4, 5, 6, 7, 8, 9, 10]\n",
    "\n",
    "# map() - застосувати функцію до кожного елемента\n",
    "print(\"map() - квадрати чисел:\")\n",
    "squares = list(map(lambda x: x ** 2, numbers))\n",
    "print(f\"  {numbers}\")\n",
    "print(f\"  {squares}\")\n",
    "\n",
    "# filter() - відфільтрувати елементи\n",
    "print(\"\\nfilter() - тільки парні:\")\n",
    "evens = list(filter(lambda x: x % 2 == 0, numbers))\n",
    "print(f\"  {evens}\")\n",
    "\n",
    "# reduce() - згорнути список до одного значення\n",
    "print(\"\\nreduce() - добуток всіх чисел:\")\n",
    "product = reduce(lambda x, y: x * y, numbers)\n",
    "print(f\"  {product}\")\n",
    "\n",
    "# Власна функція вищого порядку\n",
    "def apply_twice(func, value):\n",
    "    \"\"\"Застосовує функцію двічі\"\"\"\n",
    "    return func(func(value))\n",
    "\n",
    "print(\"\\napply_twice():\")\n",
    "print(f\"  (5 + 1) + 1 = {apply_twice(lambda x: x + 1, 5)}\")\n",
    "print(f\"  (2 * 2) * 2 = {apply_twice(lambda x: x * 2, 2)}\")\n",
    "\n",
    "# Функція, що повертає функцію\n",
    "def make_multiplier(n):\n",
    "    \"\"\"Створює функцію-множник\"\"\"\n",
    "    return lambda x: x * n\n",
    "\n",
    "multiply_by_5 = make_multiplier(5)\n",
    "multiply_by_10 = make_multiplier(10)\n",
    "\n",
    "print(\"\\nФункція, що повертає функцію:\")\n",
    "print(f\"  7 * 5 = {multiply_by_5(7)}\")\n",
    "print(f\"  7 * 10 = {multiply_by_10(7)}\")\n"
   ]
  },
  {
   "cell_type": "markdown",
   "metadata": {},
   "source": [
    " ## 2.14 Type Hints - Анотації типів\n",
    "\n",
    "\n",
    "\n",
    " **Type hints** (підказки типів) - це спосіб вказати очікувані типи параметрів та результатів функцій. Вони покращують читабельність та допомагають виявляти помилки.\n",
    "\n",
    "\n",
    "\n",
    " ### Переваги:\n",
    "\n",
    " - Краща читабельність коду\n",
    "\n",
    " - Підтримка IDE (автодоповнення, перевірка типів)\n",
    "\n",
    " - Документація коду\n",
    "\n",
    " - Статичний аналіз (mypy, pyright)"
   ]
  },
  {
   "cell_type": "code",
   "execution_count": 64,
   "metadata": {},
   "outputs": [
    {
     "name": "stdout",
     "output_type": "stream",
     "text": [
      "\n",
      "================================================================================\n",
      "TYPE HINTS\n",
      "================================================================================\n",
      "Привіт, Іван! Тобі 30 років.\n",
      "Середнє: 3.08\n",
      "Користувач: {'name': 'Олександр', 'age': 28}\n",
      "Користувач: None\n",
      "Довжина: 5\n"
     ]
    }
   ],
   "source": [
    "from typing import List, Dict, Tuple, Optional, Union\n",
    "\n",
    "print(\"\\n\" + \"=\" * 80)\n",
    "print(\"TYPE HINTS\")\n",
    "print(\"=\" * 80)\n",
    "\n",
    "def greet_user(name: str, age: int) -> str:\n",
    "    \"\"\"\n",
    "    Вітає користувача\n",
    "    \n",
    "    Args:\n",
    "        name: Ім'я користувача\n",
    "        age: Вік користувача\n",
    "    \n",
    "    Returns:\n",
    "        Привітальне повідомлення\n",
    "    \"\"\"\n",
    "    return f\"Привіт, {name}! Тобі {age} років.\"\n",
    "\n",
    "def calculate_average(numbers: List[float]) -> float:\n",
    "    \"\"\"Обчислює середнє значення списку чисел\"\"\"\n",
    "    return sum(numbers) / len(numbers) if numbers else 0.0\n",
    "\n",
    "def find_user(user_id: int) -> Optional[Dict[str, Union[str, int]]]:\n",
    "    \"\"\"\n",
    "    Шукає користувача за ID\n",
    "    \n",
    "    Returns:\n",
    "        Словник з даними користувача або None\n",
    "    \"\"\"\n",
    "    users = {\n",
    "        1: {\"name\": \"Олександр\", \"age\": 28},\n",
    "        2: {\"name\": \"Марія\", \"age\": 25}\n",
    "    }\n",
    "    return users.get(user_id)\n",
    "\n",
    "def process_data(data: Union[List, Tuple]) -> int:\n",
    "    \"\"\"Обробляє дані у вигляді списку або кортежу\"\"\"\n",
    "    return len(data)\n",
    "\n",
    "# Використання\n",
    "print(greet_user(\"Іван\", 30))\n",
    "print(f\"Середнє: {calculate_average([1.5, 2.7, 3.9, 4.2]):.2f}\")\n",
    "print(f\"Користувач: {find_user(1)}\")\n",
    "print(f\"Користувач: {find_user(999)}\")\n",
    "print(f\"Довжина: {process_data([1, 2, 3, 4, 5])}\")\n"
   ]
  },
  {
   "cell_type": "markdown",
   "metadata": {},
   "source": [
    " # 📚 Підсумок та Best Practices\n",
    "\n",
    "\n",
    "\n",
    " ## Input/Output\n",
    "\n",
    "\n",
    "\n",
    " ### ✅ Робіть так:\n",
    "\n",
    " - Використовуйте f-strings для форматування\n",
    "\n",
    " - Читайте дані з файлів замість `input()` для автоматизації\n",
    "\n",
    " - Використовуйте спеціалізовані бібліотеки (pandas, json) замість власних рішень\n",
    "\n",
    " - Обробляйте помилки при перетворенні типів\n",
    "\n",
    " - Використовуйте контекстний менеджер `with` для роботи з файлами\n",
    "\n",
    "\n",
    "\n",
    " ### ❌ Не робіть так:\n",
    "\n",
    " - Не використовуйте конкатенацію рядків для форматування\n",
    "\n",
    " - Не забувайте про encoding='utf-8' при роботі з українським текстом\n",
    "\n",
    " - Не вводьте константи вручну (π = 3.14), використовуйте `math.pi`\n",
    "\n",
    " - Не забувайте закривати файли (або використовуйте `with`)\n",
    "\n",
    "\n",
    "\n",
    " ## Functions\n",
    "\n",
    "\n",
    "\n",
    " ### ✅ Робіть так:\n",
    "\n",
    " - Пишіть короткі функції з однією відповідальністю\n",
    "\n",
    " - Використовуйте docstrings для документування\n",
    "\n",
    " - Використовуйте type hints для ясності\n",
    "\n",
    " - Використовуйте параметри за замовчуванням для гнучкості\n",
    "\n",
    " - Використовуйте вбудовані функції замість власних реалізацій\n",
    "\n",
    " - Використовуйте декоратори для повторюваної логіки\n",
    "\n",
    "\n",
    "\n",
    " ### ❌ Не робіть так:\n",
    "\n",
    " - Не створюйте функції-монстри з сотнями рядків\n",
    "\n",
    " - Не використовуйте глобальні змінні без необхідності\n",
    "\n",
    " - Не використовуйте мутабельні значення за замовчуванням (list, dict)\n",
    "\n",
    " - Не пишіть функції без документації\n",
    "\n",
    "\n",
    "\n",
    " ---"
   ]
  },
  {
   "cell_type": "markdown",
   "metadata": {},
   "source": [
    " # 🎯 Практичні завдання\n",
    "\n",
    "\n",
    "\n",
    " ## Завдання 1: Аналізатор логів\n",
    "\n",
    " Створіть функцію, яка читає лог-файл та виводить статистику по різних типах повідомлень (INFO, WARNING, ERROR).\n",
    "\n",
    "\n",
    "\n",
    " ## Завдання 2: Калькулятор зарплат\n",
    "\n",
    " Напишіть програму, яка читає CSV з працівниками (ім'я, години, ставка) та розраховує зарплату з урахуванням податків.\n",
    "\n",
    "\n",
    "\n",
    " ## Завдання 3: Конвертер одиниць виміру\n",
    "\n",
    " Створіть набір функцій для конвертації різних одиниць (температура, довжина, вага, тощо).\n",
    "\n",
    "\n",
    "\n",
    " ## Завдання 4: Обробник JSON конфігів\n",
    "\n",
    " Напишіть функції для читання, валідації та оновлення JSON конфігураційних файлів.\n",
    "\n",
    "\n",
    "\n",
    " ## Завдання 5: Генератор звітів\n",
    "\n",
    " Створіть функцію, яка бере дані з CSV та генерує HTML звіт з таблицею та графіком."
   ]
  },
  {
   "cell_type": "markdown",
   "metadata": {},
   "source": [
    " # 🔗 Корисні посилання\n",
    "\n",
    "\n",
    "\n",
    " ## Документація:\n",
    "\n",
    " - [Python Documentation](https://docs.python.org/3/)\n",
    "\n",
    " - [Python Tutorial](https://docs.python.org/3/tutorial/)\n",
    "\n",
    " - [PEP 8 - Style Guide](https://pep8.org/)\n",
    "\n",
    "\n",
    "\n",
    " ## Бібліотеки:\n",
    "\n",
    " - [pandas Documentation](https://pandas.pydata.org/docs/)\n",
    "\n",
    " - [numpy Documentation](https://numpy.org/doc/)\n",
    "\n",
    " - [matplotlib Documentation](https://matplotlib.org/stable/contents.html)\n",
    "\n",
    "\n",
    "\n",
    " ## Навчання:\n",
    "\n",
    " - [Real Python](https://realpython.com/)\n",
    "\n",
    " - [Python.org Tutorial](https://docs.python.org/3/tutorial/)\n",
    "\n",
    " - [W3Schools Python](https://www.w3schools.com/python/)\n",
    "\n",
    "\n",
    "\n",
    " ---\n",
    "\n",
    "\n",
    "\n",
    " ## 🎓 Завершення модуля\n",
    "\n",
    "\n",
    "\n",
    " Ви вивчили:\n",
    "\n",
    " - ✅ Основи input/output в Python\n",
    "\n",
    " - ✅ Форматування рядків (f-strings)\n",
    "\n",
    " - ✅ Роботу з файлами (TXT, CSV, JSON)\n",
    "\n",
    " - ✅ Використання бібліотек (pandas, numpy, math)\n",
    "\n",
    " - ✅ Створення та використання функцій\n",
    "\n",
    " - ✅ Параметри, return, області видимості\n",
    "\n",
    " - ✅ Лямбда-функції та функції вищого порядку\n",
    "\n",
    " - ✅ Декоратори та type hints\n",
    "\n",
    " - ✅ Best practices для Python\n",
    "\n",
    "\n",
    "\n",
    " **Наступні кроки:**\n",
    "\n",
    " 1. Практикуйте написання функцій\n",
    "\n",
    " 2. Працюйте з реальними даними\n",
    "\n",
    " 3. Вивчайте додаткові бібліотеки\n",
    "\n",
    " 4. Читайте чужий код для покращення своїх навичок\n",
    "\n",
    "\n",
    "\n",
    " Удачі у навчанні! 🚀"
   ]
  },
  {
   "cell_type": "code",
   "execution_count": 65,
   "metadata": {},
   "outputs": [
    {
     "name": "stdout",
     "output_type": "stream",
     "text": [
      "\n",
      "================================================================================\n",
      "✨ МОДУЛЬ ЗАВЕРШЕНО! ✨\n",
      "================================================================================\n",
      "\n",
      "Дякуємо за увагу! Практикуйтесь та пишіть чистий код! 🐍\n"
     ]
    }
   ],
   "source": [
    "print(\"\\n\" + \"=\" * 80)\n",
    "print(\"✨ МОДУЛЬ ЗАВЕРШЕНО! ✨\")\n",
    "print(\"=\" * 80)\n",
    "print(\"\\nДякуємо за увагу! Практикуйтесь та пишіть чистий код! 🐍\")\n"
   ]
  },
  {
   "cell_type": "code",
   "execution_count": null,
   "metadata": {},
   "outputs": [],
   "source": []
  }
 ],
 "metadata": {
  "kernelspec": {
   "display_name": ".venv",
   "language": "python",
   "name": "python3"
  },
  "language_info": {
   "codemirror_mode": {
    "name": "ipython",
    "version": 3
   },
   "file_extension": ".py",
   "mimetype": "text/x-python",
   "name": "python",
   "nbconvert_exporter": "python",
   "pygments_lexer": "ipython3",
   "version": "3.12.3"
  }
 },
 "nbformat": 4,
 "nbformat_minor": 2
}
